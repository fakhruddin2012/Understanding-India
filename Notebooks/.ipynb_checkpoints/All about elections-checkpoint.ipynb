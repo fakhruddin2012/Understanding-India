{
 "cells": [
  {
   "cell_type": "code",
   "execution_count": 2,
   "metadata": {},
   "outputs": [],
   "source": [
    "import pandas as pd"
   ]
  },
  {
   "cell_type": "code",
   "execution_count": 3,
   "metadata": {},
   "outputs": [
    {
     "data": {
      "text/plain": [
       "pandas.core.frame.DataFrame"
      ]
     },
     "execution_count": 3,
     "metadata": {},
     "output_type": "execute_result"
    }
   ],
   "source": [
    "df=pd.read_html('https://en.wikipedia.org/wiki/State_legislative_assemblies_of_India')\n",
    "type(df[0])"
   ]
  },
  {
   "cell_type": "code",
   "execution_count": 4,
   "metadata": {},
   "outputs": [
    {
     "data": {
      "text/html": [
       "<div>\n",
       "<style scoped>\n",
       "    .dataframe tbody tr th:only-of-type {\n",
       "        vertical-align: middle;\n",
       "    }\n",
       "\n",
       "    .dataframe tbody tr th {\n",
       "        vertical-align: top;\n",
       "    }\n",
       "\n",
       "    .dataframe thead th {\n",
       "        text-align: right;\n",
       "    }\n",
       "</style>\n",
       "<table border=\"1\" class=\"dataframe\">\n",
       "  <thead>\n",
       "    <tr style=\"text-align: right;\">\n",
       "      <th></th>\n",
       "      <th>State Legislative Assembly (Vidhan Sabha)</th>\n",
       "      <th>Image</th>\n",
       "      <th>List of constituencies</th>\n",
       "      <th>Seat/state capital</th>\n",
       "      <th>Number of constituencies</th>\n",
       "      <th>Ruling party</th>\n",
       "      <th>Ruling party.1</th>\n",
       "      <th>Current house</th>\n",
       "    </tr>\n",
       "  </thead>\n",
       "  <tbody>\n",
       "    <tr>\n",
       "      <th>0</th>\n",
       "      <td>Andhra Pradesh Legislative Assembly</td>\n",
       "      <td>NaN</td>\n",
       "      <td>List</td>\n",
       "      <td>Amaravati</td>\n",
       "      <td>175</td>\n",
       "      <td>NaN</td>\n",
       "      <td>YSR Congress Party</td>\n",
       "      <td>Fifteenth</td>\n",
       "    </tr>\n",
       "    <tr>\n",
       "      <th>1</th>\n",
       "      <td>Arunachal Pradesh Legislative Assembly</td>\n",
       "      <td>NaN</td>\n",
       "      <td>List</td>\n",
       "      <td>Itanagar</td>\n",
       "      <td>60</td>\n",
       "      <td>NaN</td>\n",
       "      <td>Bharatiya Janata Party</td>\n",
       "      <td>Seventh</td>\n",
       "    </tr>\n",
       "    <tr>\n",
       "      <th>2</th>\n",
       "      <td>Assam Legislative Assembly</td>\n",
       "      <td>NaN</td>\n",
       "      <td>List</td>\n",
       "      <td>Dispur</td>\n",
       "      <td>126</td>\n",
       "      <td>NaN</td>\n",
       "      <td>Bharatiya Janata Party</td>\n",
       "      <td>Thirteenth</td>\n",
       "    </tr>\n",
       "    <tr>\n",
       "      <th>3</th>\n",
       "      <td>Bihar Legislative Assembly</td>\n",
       "      <td>NaN</td>\n",
       "      <td>List</td>\n",
       "      <td>Patna</td>\n",
       "      <td>243</td>\n",
       "      <td>NaN</td>\n",
       "      <td>Janata Dal (United)</td>\n",
       "      <td>Seventeenth</td>\n",
       "    </tr>\n",
       "    <tr>\n",
       "      <th>4</th>\n",
       "      <td>Chhattisgarh Legislative Assembly</td>\n",
       "      <td>NaN</td>\n",
       "      <td>List</td>\n",
       "      <td>Naya Raipur</td>\n",
       "      <td>90</td>\n",
       "      <td>NaN</td>\n",
       "      <td>Indian National Congress</td>\n",
       "      <td>Fifth</td>\n",
       "    </tr>\n",
       "  </tbody>\n",
       "</table>\n",
       "</div>"
      ],
      "text/plain": [
       "  State Legislative Assembly (Vidhan Sabha) Image List of constituencies  \\\n",
       "0       Andhra Pradesh Legislative Assembly   NaN                   List   \n",
       "1    Arunachal Pradesh Legislative Assembly   NaN                   List   \n",
       "2                Assam Legislative Assembly   NaN                   List   \n",
       "3                Bihar Legislative Assembly   NaN                   List   \n",
       "4         Chhattisgarh Legislative Assembly   NaN                   List   \n",
       "\n",
       "  Seat/state capital Number of constituencies Ruling party  \\\n",
       "0          Amaravati                      175          NaN   \n",
       "1           Itanagar                       60          NaN   \n",
       "2             Dispur                      126          NaN   \n",
       "3              Patna                      243          NaN   \n",
       "4        Naya Raipur                       90          NaN   \n",
       "\n",
       "             Ruling party.1 Current house  \n",
       "0        YSR Congress Party     Fifteenth  \n",
       "1    Bharatiya Janata Party       Seventh  \n",
       "2    Bharatiya Janata Party    Thirteenth  \n",
       "3       Janata Dal (United)   Seventeenth  \n",
       "4  Indian National Congress         Fifth  "
      ]
     },
     "execution_count": 4,
     "metadata": {},
     "output_type": "execute_result"
    }
   ],
   "source": [
    "df=df[0]\n",
    "df.head()"
   ]
  },
  {
   "cell_type": "markdown",
   "metadata": {},
   "source": [
    "# Cleaning the Data"
   ]
  },
  {
   "cell_type": "code",
   "execution_count": 5,
   "metadata": {},
   "outputs": [],
   "source": [
    "df=df[['State Legislative Assembly (Vidhan Sabha)','Seat/state capital','Number of constituencies','Ruling party.1','Current house']]"
   ]
  },
  {
   "cell_type": "code",
   "execution_count": 6,
   "metadata": {},
   "outputs": [
    {
     "data": {
      "text/html": [
       "<div>\n",
       "<style scoped>\n",
       "    .dataframe tbody tr th:only-of-type {\n",
       "        vertical-align: middle;\n",
       "    }\n",
       "\n",
       "    .dataframe tbody tr th {\n",
       "        vertical-align: top;\n",
       "    }\n",
       "\n",
       "    .dataframe thead th {\n",
       "        text-align: right;\n",
       "    }\n",
       "</style>\n",
       "<table border=\"1\" class=\"dataframe\">\n",
       "  <thead>\n",
       "    <tr style=\"text-align: right;\">\n",
       "      <th></th>\n",
       "      <th>State Legislative Assembly (Vidhan Sabha)</th>\n",
       "      <th>Seat/state capital</th>\n",
       "      <th>Number of constituencies</th>\n",
       "      <th>Ruling party.1</th>\n",
       "      <th>Current house</th>\n",
       "    </tr>\n",
       "  </thead>\n",
       "  <tbody>\n",
       "    <tr>\n",
       "      <th>0</th>\n",
       "      <td>Andhra Pradesh Legislative Assembly</td>\n",
       "      <td>Amaravati</td>\n",
       "      <td>175</td>\n",
       "      <td>YSR Congress Party</td>\n",
       "      <td>Fifteenth</td>\n",
       "    </tr>\n",
       "    <tr>\n",
       "      <th>1</th>\n",
       "      <td>Arunachal Pradesh Legislative Assembly</td>\n",
       "      <td>Itanagar</td>\n",
       "      <td>60</td>\n",
       "      <td>Bharatiya Janata Party</td>\n",
       "      <td>Seventh</td>\n",
       "    </tr>\n",
       "    <tr>\n",
       "      <th>2</th>\n",
       "      <td>Assam Legislative Assembly</td>\n",
       "      <td>Dispur</td>\n",
       "      <td>126</td>\n",
       "      <td>Bharatiya Janata Party</td>\n",
       "      <td>Thirteenth</td>\n",
       "    </tr>\n",
       "    <tr>\n",
       "      <th>3</th>\n",
       "      <td>Bihar Legislative Assembly</td>\n",
       "      <td>Patna</td>\n",
       "      <td>243</td>\n",
       "      <td>Janata Dal (United)</td>\n",
       "      <td>Seventeenth</td>\n",
       "    </tr>\n",
       "    <tr>\n",
       "      <th>4</th>\n",
       "      <td>Chhattisgarh Legislative Assembly</td>\n",
       "      <td>Naya Raipur</td>\n",
       "      <td>90</td>\n",
       "      <td>Indian National Congress</td>\n",
       "      <td>Fifth</td>\n",
       "    </tr>\n",
       "  </tbody>\n",
       "</table>\n",
       "</div>"
      ],
      "text/plain": [
       "  State Legislative Assembly (Vidhan Sabha) Seat/state capital  \\\n",
       "0       Andhra Pradesh Legislative Assembly          Amaravati   \n",
       "1    Arunachal Pradesh Legislative Assembly           Itanagar   \n",
       "2                Assam Legislative Assembly             Dispur   \n",
       "3                Bihar Legislative Assembly              Patna   \n",
       "4         Chhattisgarh Legislative Assembly        Naya Raipur   \n",
       "\n",
       "  Number of constituencies            Ruling party.1 Current house  \n",
       "0                      175        YSR Congress Party     Fifteenth  \n",
       "1                       60    Bharatiya Janata Party       Seventh  \n",
       "2                      126    Bharatiya Janata Party    Thirteenth  \n",
       "3                      243       Janata Dal (United)   Seventeenth  \n",
       "4                       90  Indian National Congress         Fifth  "
      ]
     },
     "execution_count": 6,
     "metadata": {},
     "output_type": "execute_result"
    }
   ],
   "source": [
    "df.head()"
   ]
  },
  {
   "cell_type": "code",
   "execution_count": 7,
   "metadata": {},
   "outputs": [
    {
     "data": {
      "text/plain": [
       "(32, 5)"
      ]
     },
     "execution_count": 7,
     "metadata": {},
     "output_type": "execute_result"
    }
   ],
   "source": [
    "df.shape"
   ]
  },
  {
   "cell_type": "markdown",
   "metadata": {},
   "source": [
    "Renaming column Ruling party.1 to Ruling party"
   ]
  },
  {
   "cell_type": "code",
   "execution_count": 9,
   "metadata": {},
   "outputs": [
    {
     "data": {
      "text/html": [
       "<div>\n",
       "<style scoped>\n",
       "    .dataframe tbody tr th:only-of-type {\n",
       "        vertical-align: middle;\n",
       "    }\n",
       "\n",
       "    .dataframe tbody tr th {\n",
       "        vertical-align: top;\n",
       "    }\n",
       "\n",
       "    .dataframe thead th {\n",
       "        text-align: right;\n",
       "    }\n",
       "</style>\n",
       "<table border=\"1\" class=\"dataframe\">\n",
       "  <thead>\n",
       "    <tr style=\"text-align: right;\">\n",
       "      <th></th>\n",
       "      <th>State Legislative Assembly (Vidhan Sabha)</th>\n",
       "      <th>Seat/state capital</th>\n",
       "      <th>Number of constituencies</th>\n",
       "      <th>Ruling party</th>\n",
       "      <th>Current house</th>\n",
       "    </tr>\n",
       "  </thead>\n",
       "  <tbody>\n",
       "    <tr>\n",
       "      <th>0</th>\n",
       "      <td>Andhra Pradesh Legislative Assembly</td>\n",
       "      <td>Amaravati</td>\n",
       "      <td>175</td>\n",
       "      <td>YSR Congress Party</td>\n",
       "      <td>Fifteenth</td>\n",
       "    </tr>\n",
       "    <tr>\n",
       "      <th>1</th>\n",
       "      <td>Arunachal Pradesh Legislative Assembly</td>\n",
       "      <td>Itanagar</td>\n",
       "      <td>60</td>\n",
       "      <td>Bharatiya Janata Party</td>\n",
       "      <td>Seventh</td>\n",
       "    </tr>\n",
       "    <tr>\n",
       "      <th>2</th>\n",
       "      <td>Assam Legislative Assembly</td>\n",
       "      <td>Dispur</td>\n",
       "      <td>126</td>\n",
       "      <td>Bharatiya Janata Party</td>\n",
       "      <td>Thirteenth</td>\n",
       "    </tr>\n",
       "    <tr>\n",
       "      <th>3</th>\n",
       "      <td>Bihar Legislative Assembly</td>\n",
       "      <td>Patna</td>\n",
       "      <td>243</td>\n",
       "      <td>Janata Dal (United)</td>\n",
       "      <td>Seventeenth</td>\n",
       "    </tr>\n",
       "    <tr>\n",
       "      <th>4</th>\n",
       "      <td>Chhattisgarh Legislative Assembly</td>\n",
       "      <td>Naya Raipur</td>\n",
       "      <td>90</td>\n",
       "      <td>Indian National Congress</td>\n",
       "      <td>Fifth</td>\n",
       "    </tr>\n",
       "    <tr>\n",
       "      <th>5</th>\n",
       "      <td>Delhi Legislative Assembly</td>\n",
       "      <td>New Delhi</td>\n",
       "      <td>70</td>\n",
       "      <td>Aam Aadmi Party</td>\n",
       "      <td>Seventh</td>\n",
       "    </tr>\n",
       "    <tr>\n",
       "      <th>6</th>\n",
       "      <td>Goa Legislative Assembly</td>\n",
       "      <td>Panaji</td>\n",
       "      <td>40</td>\n",
       "      <td>Bharatiya Janata Party</td>\n",
       "      <td>Seventh</td>\n",
       "    </tr>\n",
       "    <tr>\n",
       "      <th>7</th>\n",
       "      <td>Gujarat Legislative Assembly</td>\n",
       "      <td>Gandhinagar</td>\n",
       "      <td>182</td>\n",
       "      <td>Bharatiya Janata Party</td>\n",
       "      <td>Fourteenth</td>\n",
       "    </tr>\n",
       "    <tr>\n",
       "      <th>8</th>\n",
       "      <td>Haryana Legislative Assembly</td>\n",
       "      <td>Chandigarh</td>\n",
       "      <td>90</td>\n",
       "      <td>Bharatiya Janata Party</td>\n",
       "      <td>Fourteenth</td>\n",
       "    </tr>\n",
       "    <tr>\n",
       "      <th>9</th>\n",
       "      <td>Himachal Pradesh Legislative Assembly</td>\n",
       "      <td>Shimla (summer) Dharamshala (winter)</td>\n",
       "      <td>68</td>\n",
       "      <td>Bharatiya Janata Party</td>\n",
       "      <td>Thirteenth</td>\n",
       "    </tr>\n",
       "    <tr>\n",
       "      <th>10</th>\n",
       "      <td>Jammu and Kashmir Legislative Assembly</td>\n",
       "      <td>Srinagar (summer) Jammu (winter)</td>\n",
       "      <td>85†</td>\n",
       "      <td>N/A(President's rule)</td>\n",
       "      <td>N/A(President's rule)</td>\n",
       "    </tr>\n",
       "    <tr>\n",
       "      <th>11</th>\n",
       "      <td>Jharkhand Legislative Assembly</td>\n",
       "      <td>Ranchi</td>\n",
       "      <td>81</td>\n",
       "      <td>Jharkhand Mukti Morcha</td>\n",
       "      <td>Fifth</td>\n",
       "    </tr>\n",
       "    <tr>\n",
       "      <th>12</th>\n",
       "      <td>Karnataka Legislative Assembly</td>\n",
       "      <td>Bangalore (summer) Belgaum (winter)</td>\n",
       "      <td>224</td>\n",
       "      <td>Bharatiya Janata Party</td>\n",
       "      <td>Fifteenth</td>\n",
       "    </tr>\n",
       "    <tr>\n",
       "      <th>13</th>\n",
       "      <td>Kerala Legislative Assembly</td>\n",
       "      <td>Thiruvananthapuram</td>\n",
       "      <td>140</td>\n",
       "      <td>Communist Party of India (Marxist)</td>\n",
       "      <td>Fourteenth</td>\n",
       "    </tr>\n",
       "    <tr>\n",
       "      <th>14</th>\n",
       "      <td>Madhya Pradesh Legislative Assembly</td>\n",
       "      <td>Bhopal</td>\n",
       "      <td>230</td>\n",
       "      <td>Bharatiya Janata Party</td>\n",
       "      <td>Fifteenth</td>\n",
       "    </tr>\n",
       "    <tr>\n",
       "      <th>15</th>\n",
       "      <td>Maharashtra Legislative Assembly</td>\n",
       "      <td>Mumbai (summer) Nagpur (winter)</td>\n",
       "      <td>288</td>\n",
       "      <td>Shiv Sena</td>\n",
       "      <td>Fourteenth</td>\n",
       "    </tr>\n",
       "    <tr>\n",
       "      <th>16</th>\n",
       "      <td>Manipur Legislative Assembly</td>\n",
       "      <td>Imphal</td>\n",
       "      <td>60</td>\n",
       "      <td>Bharatiya Janata Party</td>\n",
       "      <td>Twelfth</td>\n",
       "    </tr>\n",
       "    <tr>\n",
       "      <th>17</th>\n",
       "      <td>Meghalaya Legislative Assembly</td>\n",
       "      <td>Shillong</td>\n",
       "      <td>60</td>\n",
       "      <td>National People's Party</td>\n",
       "      <td>Tenth</td>\n",
       "    </tr>\n",
       "    <tr>\n",
       "      <th>18</th>\n",
       "      <td>Mizoram Legislative Assembly</td>\n",
       "      <td>Aizawl</td>\n",
       "      <td>40</td>\n",
       "      <td>Mizo National Front</td>\n",
       "      <td>Seventh</td>\n",
       "    </tr>\n",
       "    <tr>\n",
       "      <th>19</th>\n",
       "      <td>Nagaland Legislative Assembly</td>\n",
       "      <td>Kohima</td>\n",
       "      <td>60</td>\n",
       "      <td>Nationalist Democratic Progressive Party</td>\n",
       "      <td>Thirteenth</td>\n",
       "    </tr>\n",
       "    <tr>\n",
       "      <th>20</th>\n",
       "      <td>Odisha Legislative Assembly</td>\n",
       "      <td>Bhubaneshwar</td>\n",
       "      <td>147</td>\n",
       "      <td>Biju Janata Dal</td>\n",
       "      <td>Sixteenth</td>\n",
       "    </tr>\n",
       "    <tr>\n",
       "      <th>21</th>\n",
       "      <td>Puducherry Legislative Assembly</td>\n",
       "      <td>Puducherry</td>\n",
       "      <td>33‡</td>\n",
       "      <td>Indian National Congress</td>\n",
       "      <td>Fourteenth</td>\n",
       "    </tr>\n",
       "    <tr>\n",
       "      <th>22</th>\n",
       "      <td>Punjab Legislative Assembly</td>\n",
       "      <td>Chandigarh</td>\n",
       "      <td>117</td>\n",
       "      <td>Indian National Congress</td>\n",
       "      <td>Fifteenth</td>\n",
       "    </tr>\n",
       "    <tr>\n",
       "      <th>23</th>\n",
       "      <td>Rajasthan Legislative Assembly</td>\n",
       "      <td>Jaipur</td>\n",
       "      <td>200</td>\n",
       "      <td>Indian National Congress</td>\n",
       "      <td>Fifteenth</td>\n",
       "    </tr>\n",
       "    <tr>\n",
       "      <th>24</th>\n",
       "      <td>Sikkim Legislative Assembly</td>\n",
       "      <td>Gangtok</td>\n",
       "      <td>32</td>\n",
       "      <td>Sikkim Krantikari Morcha</td>\n",
       "      <td>Tenth</td>\n",
       "    </tr>\n",
       "    <tr>\n",
       "      <th>25</th>\n",
       "      <td>Tamil Nadu Legislative Assembly</td>\n",
       "      <td>Chennai</td>\n",
       "      <td>234</td>\n",
       "      <td>All India Anna Dravida Munnetra Kazhagam</td>\n",
       "      <td>Fifteenth</td>\n",
       "    </tr>\n",
       "    <tr>\n",
       "      <th>26</th>\n",
       "      <td>Telangana Legislative Assembly</td>\n",
       "      <td>Hyderabad</td>\n",
       "      <td>119</td>\n",
       "      <td>Telangana Rashtra Samithi</td>\n",
       "      <td>Second</td>\n",
       "    </tr>\n",
       "    <tr>\n",
       "      <th>27</th>\n",
       "      <td>Tripura Legislative Assembly</td>\n",
       "      <td>Agartala</td>\n",
       "      <td>60</td>\n",
       "      <td>Bharatiya Janata Party</td>\n",
       "      <td>Twelfth</td>\n",
       "    </tr>\n",
       "    <tr>\n",
       "      <th>28</th>\n",
       "      <td>Uttar Pradesh Legislative Assembly</td>\n",
       "      <td>Lucknow</td>\n",
       "      <td>403</td>\n",
       "      <td>Bharatiya Janata Party</td>\n",
       "      <td>Seventeenth</td>\n",
       "    </tr>\n",
       "    <tr>\n",
       "      <th>29</th>\n",
       "      <td>Uttarakhand Legislative Assembly</td>\n",
       "      <td>Gairsain (summer) Dehradun (winter)</td>\n",
       "      <td>70</td>\n",
       "      <td>Bharatiya Janata Party</td>\n",
       "      <td>Fourth</td>\n",
       "    </tr>\n",
       "    <tr>\n",
       "      <th>30</th>\n",
       "      <td>West Bengal Legislative Assembly</td>\n",
       "      <td>Kolkata</td>\n",
       "      <td>294</td>\n",
       "      <td>All India Trinamool Congress</td>\n",
       "      <td>Sixteenth</td>\n",
       "    </tr>\n",
       "    <tr>\n",
       "      <th>31</th>\n",
       "      <td>Total</td>\n",
       "      <td>—</td>\n",
       "      <td>4,121[4]</td>\n",
       "      <td>—</td>\n",
       "      <td>—</td>\n",
       "    </tr>\n",
       "  </tbody>\n",
       "</table>\n",
       "</div>"
      ],
      "text/plain": [
       "   State Legislative Assembly (Vidhan Sabha)  \\\n",
       "0        Andhra Pradesh Legislative Assembly   \n",
       "1     Arunachal Pradesh Legislative Assembly   \n",
       "2                 Assam Legislative Assembly   \n",
       "3                 Bihar Legislative Assembly   \n",
       "4          Chhattisgarh Legislative Assembly   \n",
       "5                 Delhi Legislative Assembly   \n",
       "6                   Goa Legislative Assembly   \n",
       "7               Gujarat Legislative Assembly   \n",
       "8               Haryana Legislative Assembly   \n",
       "9      Himachal Pradesh Legislative Assembly   \n",
       "10    Jammu and Kashmir Legislative Assembly   \n",
       "11            Jharkhand Legislative Assembly   \n",
       "12            Karnataka Legislative Assembly   \n",
       "13               Kerala Legislative Assembly   \n",
       "14       Madhya Pradesh Legislative Assembly   \n",
       "15          Maharashtra Legislative Assembly   \n",
       "16              Manipur Legislative Assembly   \n",
       "17            Meghalaya Legislative Assembly   \n",
       "18              Mizoram Legislative Assembly   \n",
       "19             Nagaland Legislative Assembly   \n",
       "20               Odisha Legislative Assembly   \n",
       "21           Puducherry Legislative Assembly   \n",
       "22               Punjab Legislative Assembly   \n",
       "23            Rajasthan Legislative Assembly   \n",
       "24               Sikkim Legislative Assembly   \n",
       "25           Tamil Nadu Legislative Assembly   \n",
       "26            Telangana Legislative Assembly   \n",
       "27              Tripura Legislative Assembly   \n",
       "28        Uttar Pradesh Legislative Assembly   \n",
       "29          Uttarakhand Legislative Assembly   \n",
       "30          West Bengal Legislative Assembly   \n",
       "31                                     Total   \n",
       "\n",
       "                      Seat/state capital Number of constituencies  \\\n",
       "0                              Amaravati                      175   \n",
       "1                               Itanagar                       60   \n",
       "2                                 Dispur                      126   \n",
       "3                                  Patna                      243   \n",
       "4                            Naya Raipur                       90   \n",
       "5                              New Delhi                       70   \n",
       "6                                 Panaji                       40   \n",
       "7                            Gandhinagar                      182   \n",
       "8                             Chandigarh                       90   \n",
       "9   Shimla (summer) Dharamshala (winter)                       68   \n",
       "10      Srinagar (summer) Jammu (winter)                      85†   \n",
       "11                                Ranchi                       81   \n",
       "12   Bangalore (summer) Belgaum (winter)                      224   \n",
       "13                    Thiruvananthapuram                      140   \n",
       "14                                Bhopal                      230   \n",
       "15       Mumbai (summer) Nagpur (winter)                      288   \n",
       "16                                Imphal                       60   \n",
       "17                              Shillong                       60   \n",
       "18                                Aizawl                       40   \n",
       "19                                Kohima                       60   \n",
       "20                          Bhubaneshwar                      147   \n",
       "21                            Puducherry                      33‡   \n",
       "22                            Chandigarh                      117   \n",
       "23                                Jaipur                      200   \n",
       "24                               Gangtok                       32   \n",
       "25                               Chennai                      234   \n",
       "26                             Hyderabad                      119   \n",
       "27                              Agartala                       60   \n",
       "28                               Lucknow                      403   \n",
       "29   Gairsain (summer) Dehradun (winter)                       70   \n",
       "30                               Kolkata                      294   \n",
       "31                                     —                 4,121[4]   \n",
       "\n",
       "                                Ruling party          Current house  \n",
       "0                         YSR Congress Party              Fifteenth  \n",
       "1                     Bharatiya Janata Party                Seventh  \n",
       "2                     Bharatiya Janata Party             Thirteenth  \n",
       "3                        Janata Dal (United)            Seventeenth  \n",
       "4                   Indian National Congress                  Fifth  \n",
       "5                            Aam Aadmi Party                Seventh  \n",
       "6                     Bharatiya Janata Party                Seventh  \n",
       "7                     Bharatiya Janata Party             Fourteenth  \n",
       "8                     Bharatiya Janata Party             Fourteenth  \n",
       "9                     Bharatiya Janata Party             Thirteenth  \n",
       "10                     N/A(President's rule)  N/A(President's rule)  \n",
       "11                    Jharkhand Mukti Morcha                  Fifth  \n",
       "12                    Bharatiya Janata Party              Fifteenth  \n",
       "13        Communist Party of India (Marxist)             Fourteenth  \n",
       "14                    Bharatiya Janata Party              Fifteenth  \n",
       "15                                 Shiv Sena             Fourteenth  \n",
       "16                    Bharatiya Janata Party                Twelfth  \n",
       "17                   National People's Party                  Tenth  \n",
       "18                       Mizo National Front                Seventh  \n",
       "19  Nationalist Democratic Progressive Party             Thirteenth  \n",
       "20                           Biju Janata Dal              Sixteenth  \n",
       "21                  Indian National Congress             Fourteenth  \n",
       "22                  Indian National Congress              Fifteenth  \n",
       "23                  Indian National Congress              Fifteenth  \n",
       "24                  Sikkim Krantikari Morcha                  Tenth  \n",
       "25  All India Anna Dravida Munnetra Kazhagam              Fifteenth  \n",
       "26                 Telangana Rashtra Samithi                 Second  \n",
       "27                    Bharatiya Janata Party                Twelfth  \n",
       "28                    Bharatiya Janata Party            Seventeenth  \n",
       "29                    Bharatiya Janata Party                 Fourth  \n",
       "30              All India Trinamool Congress              Sixteenth  \n",
       "31                                         —                      —  "
      ]
     },
     "execution_count": 9,
     "metadata": {},
     "output_type": "execute_result"
    }
   ],
   "source": [
    "df=df.rename(columns={\"Ruling party.1\": \"Ruling party\"})\n",
    "df"
   ]
  },
  {
   "cell_type": "markdown",
   "metadata": {},
   "source": [
    "Droping the last row "
   ]
  },
  {
   "cell_type": "code",
   "execution_count": 13,
   "metadata": {},
   "outputs": [
    {
     "data": {
      "text/html": [
       "<div>\n",
       "<style scoped>\n",
       "    .dataframe tbody tr th:only-of-type {\n",
       "        vertical-align: middle;\n",
       "    }\n",
       "\n",
       "    .dataframe tbody tr th {\n",
       "        vertical-align: top;\n",
       "    }\n",
       "\n",
       "    .dataframe thead th {\n",
       "        text-align: right;\n",
       "    }\n",
       "</style>\n",
       "<table border=\"1\" class=\"dataframe\">\n",
       "  <thead>\n",
       "    <tr style=\"text-align: right;\">\n",
       "      <th></th>\n",
       "      <th>State Legislative Assembly (Vidhan Sabha)</th>\n",
       "      <th>Seat/state capital</th>\n",
       "      <th>Number of constituencies</th>\n",
       "      <th>Ruling party</th>\n",
       "      <th>Current house</th>\n",
       "    </tr>\n",
       "  </thead>\n",
       "  <tbody>\n",
       "    <tr>\n",
       "      <th>0</th>\n",
       "      <td>Andhra Pradesh Legislative Assembly</td>\n",
       "      <td>Amaravati</td>\n",
       "      <td>175</td>\n",
       "      <td>YSR Congress Party</td>\n",
       "      <td>Fifteenth</td>\n",
       "    </tr>\n",
       "    <tr>\n",
       "      <th>1</th>\n",
       "      <td>Arunachal Pradesh Legislative Assembly</td>\n",
       "      <td>Itanagar</td>\n",
       "      <td>60</td>\n",
       "      <td>Bharatiya Janata Party</td>\n",
       "      <td>Seventh</td>\n",
       "    </tr>\n",
       "    <tr>\n",
       "      <th>2</th>\n",
       "      <td>Assam Legislative Assembly</td>\n",
       "      <td>Dispur</td>\n",
       "      <td>126</td>\n",
       "      <td>Bharatiya Janata Party</td>\n",
       "      <td>Thirteenth</td>\n",
       "    </tr>\n",
       "    <tr>\n",
       "      <th>3</th>\n",
       "      <td>Bihar Legislative Assembly</td>\n",
       "      <td>Patna</td>\n",
       "      <td>243</td>\n",
       "      <td>Janata Dal (United)</td>\n",
       "      <td>Seventeenth</td>\n",
       "    </tr>\n",
       "    <tr>\n",
       "      <th>4</th>\n",
       "      <td>Chhattisgarh Legislative Assembly</td>\n",
       "      <td>Naya Raipur</td>\n",
       "      <td>90</td>\n",
       "      <td>Indian National Congress</td>\n",
       "      <td>Fifth</td>\n",
       "    </tr>\n",
       "    <tr>\n",
       "      <th>5</th>\n",
       "      <td>Delhi Legislative Assembly</td>\n",
       "      <td>New Delhi</td>\n",
       "      <td>70</td>\n",
       "      <td>Aam Aadmi Party</td>\n",
       "      <td>Seventh</td>\n",
       "    </tr>\n",
       "    <tr>\n",
       "      <th>6</th>\n",
       "      <td>Goa Legislative Assembly</td>\n",
       "      <td>Panaji</td>\n",
       "      <td>40</td>\n",
       "      <td>Bharatiya Janata Party</td>\n",
       "      <td>Seventh</td>\n",
       "    </tr>\n",
       "    <tr>\n",
       "      <th>7</th>\n",
       "      <td>Gujarat Legislative Assembly</td>\n",
       "      <td>Gandhinagar</td>\n",
       "      <td>182</td>\n",
       "      <td>Bharatiya Janata Party</td>\n",
       "      <td>Fourteenth</td>\n",
       "    </tr>\n",
       "    <tr>\n",
       "      <th>8</th>\n",
       "      <td>Haryana Legislative Assembly</td>\n",
       "      <td>Chandigarh</td>\n",
       "      <td>90</td>\n",
       "      <td>Bharatiya Janata Party</td>\n",
       "      <td>Fourteenth</td>\n",
       "    </tr>\n",
       "    <tr>\n",
       "      <th>9</th>\n",
       "      <td>Himachal Pradesh Legislative Assembly</td>\n",
       "      <td>Shimla (summer) Dharamshala (winter)</td>\n",
       "      <td>68</td>\n",
       "      <td>Bharatiya Janata Party</td>\n",
       "      <td>Thirteenth</td>\n",
       "    </tr>\n",
       "    <tr>\n",
       "      <th>10</th>\n",
       "      <td>Jammu and Kashmir Legislative Assembly</td>\n",
       "      <td>Srinagar (summer) Jammu (winter)</td>\n",
       "      <td>85†</td>\n",
       "      <td>N/A(President's rule)</td>\n",
       "      <td>N/A(President's rule)</td>\n",
       "    </tr>\n",
       "    <tr>\n",
       "      <th>11</th>\n",
       "      <td>Jharkhand Legislative Assembly</td>\n",
       "      <td>Ranchi</td>\n",
       "      <td>81</td>\n",
       "      <td>Jharkhand Mukti Morcha</td>\n",
       "      <td>Fifth</td>\n",
       "    </tr>\n",
       "    <tr>\n",
       "      <th>12</th>\n",
       "      <td>Karnataka Legislative Assembly</td>\n",
       "      <td>Bangalore (summer) Belgaum (winter)</td>\n",
       "      <td>224</td>\n",
       "      <td>Bharatiya Janata Party</td>\n",
       "      <td>Fifteenth</td>\n",
       "    </tr>\n",
       "    <tr>\n",
       "      <th>13</th>\n",
       "      <td>Kerala Legislative Assembly</td>\n",
       "      <td>Thiruvananthapuram</td>\n",
       "      <td>140</td>\n",
       "      <td>Communist Party of India (Marxist)</td>\n",
       "      <td>Fourteenth</td>\n",
       "    </tr>\n",
       "    <tr>\n",
       "      <th>14</th>\n",
       "      <td>Madhya Pradesh Legislative Assembly</td>\n",
       "      <td>Bhopal</td>\n",
       "      <td>230</td>\n",
       "      <td>Bharatiya Janata Party</td>\n",
       "      <td>Fifteenth</td>\n",
       "    </tr>\n",
       "    <tr>\n",
       "      <th>15</th>\n",
       "      <td>Maharashtra Legislative Assembly</td>\n",
       "      <td>Mumbai (summer) Nagpur (winter)</td>\n",
       "      <td>288</td>\n",
       "      <td>Shiv Sena</td>\n",
       "      <td>Fourteenth</td>\n",
       "    </tr>\n",
       "    <tr>\n",
       "      <th>16</th>\n",
       "      <td>Manipur Legislative Assembly</td>\n",
       "      <td>Imphal</td>\n",
       "      <td>60</td>\n",
       "      <td>Bharatiya Janata Party</td>\n",
       "      <td>Twelfth</td>\n",
       "    </tr>\n",
       "    <tr>\n",
       "      <th>17</th>\n",
       "      <td>Meghalaya Legislative Assembly</td>\n",
       "      <td>Shillong</td>\n",
       "      <td>60</td>\n",
       "      <td>National People's Party</td>\n",
       "      <td>Tenth</td>\n",
       "    </tr>\n",
       "    <tr>\n",
       "      <th>18</th>\n",
       "      <td>Mizoram Legislative Assembly</td>\n",
       "      <td>Aizawl</td>\n",
       "      <td>40</td>\n",
       "      <td>Mizo National Front</td>\n",
       "      <td>Seventh</td>\n",
       "    </tr>\n",
       "    <tr>\n",
       "      <th>19</th>\n",
       "      <td>Nagaland Legislative Assembly</td>\n",
       "      <td>Kohima</td>\n",
       "      <td>60</td>\n",
       "      <td>Nationalist Democratic Progressive Party</td>\n",
       "      <td>Thirteenth</td>\n",
       "    </tr>\n",
       "    <tr>\n",
       "      <th>20</th>\n",
       "      <td>Odisha Legislative Assembly</td>\n",
       "      <td>Bhubaneshwar</td>\n",
       "      <td>147</td>\n",
       "      <td>Biju Janata Dal</td>\n",
       "      <td>Sixteenth</td>\n",
       "    </tr>\n",
       "    <tr>\n",
       "      <th>21</th>\n",
       "      <td>Puducherry Legislative Assembly</td>\n",
       "      <td>Puducherry</td>\n",
       "      <td>33‡</td>\n",
       "      <td>Indian National Congress</td>\n",
       "      <td>Fourteenth</td>\n",
       "    </tr>\n",
       "    <tr>\n",
       "      <th>22</th>\n",
       "      <td>Punjab Legislative Assembly</td>\n",
       "      <td>Chandigarh</td>\n",
       "      <td>117</td>\n",
       "      <td>Indian National Congress</td>\n",
       "      <td>Fifteenth</td>\n",
       "    </tr>\n",
       "    <tr>\n",
       "      <th>23</th>\n",
       "      <td>Rajasthan Legislative Assembly</td>\n",
       "      <td>Jaipur</td>\n",
       "      <td>200</td>\n",
       "      <td>Indian National Congress</td>\n",
       "      <td>Fifteenth</td>\n",
       "    </tr>\n",
       "    <tr>\n",
       "      <th>24</th>\n",
       "      <td>Sikkim Legislative Assembly</td>\n",
       "      <td>Gangtok</td>\n",
       "      <td>32</td>\n",
       "      <td>Sikkim Krantikari Morcha</td>\n",
       "      <td>Tenth</td>\n",
       "    </tr>\n",
       "    <tr>\n",
       "      <th>25</th>\n",
       "      <td>Tamil Nadu Legislative Assembly</td>\n",
       "      <td>Chennai</td>\n",
       "      <td>234</td>\n",
       "      <td>All India Anna Dravida Munnetra Kazhagam</td>\n",
       "      <td>Fifteenth</td>\n",
       "    </tr>\n",
       "    <tr>\n",
       "      <th>26</th>\n",
       "      <td>Telangana Legislative Assembly</td>\n",
       "      <td>Hyderabad</td>\n",
       "      <td>119</td>\n",
       "      <td>Telangana Rashtra Samithi</td>\n",
       "      <td>Second</td>\n",
       "    </tr>\n",
       "    <tr>\n",
       "      <th>27</th>\n",
       "      <td>Tripura Legislative Assembly</td>\n",
       "      <td>Agartala</td>\n",
       "      <td>60</td>\n",
       "      <td>Bharatiya Janata Party</td>\n",
       "      <td>Twelfth</td>\n",
       "    </tr>\n",
       "    <tr>\n",
       "      <th>28</th>\n",
       "      <td>Uttar Pradesh Legislative Assembly</td>\n",
       "      <td>Lucknow</td>\n",
       "      <td>403</td>\n",
       "      <td>Bharatiya Janata Party</td>\n",
       "      <td>Seventeenth</td>\n",
       "    </tr>\n",
       "    <tr>\n",
       "      <th>29</th>\n",
       "      <td>Uttarakhand Legislative Assembly</td>\n",
       "      <td>Gairsain (summer) Dehradun (winter)</td>\n",
       "      <td>70</td>\n",
       "      <td>Bharatiya Janata Party</td>\n",
       "      <td>Fourth</td>\n",
       "    </tr>\n",
       "    <tr>\n",
       "      <th>30</th>\n",
       "      <td>West Bengal Legislative Assembly</td>\n",
       "      <td>Kolkata</td>\n",
       "      <td>294</td>\n",
       "      <td>All India Trinamool Congress</td>\n",
       "      <td>Sixteenth</td>\n",
       "    </tr>\n",
       "  </tbody>\n",
       "</table>\n",
       "</div>"
      ],
      "text/plain": [
       "   State Legislative Assembly (Vidhan Sabha)  \\\n",
       "0        Andhra Pradesh Legislative Assembly   \n",
       "1     Arunachal Pradesh Legislative Assembly   \n",
       "2                 Assam Legislative Assembly   \n",
       "3                 Bihar Legislative Assembly   \n",
       "4          Chhattisgarh Legislative Assembly   \n",
       "5                 Delhi Legislative Assembly   \n",
       "6                   Goa Legislative Assembly   \n",
       "7               Gujarat Legislative Assembly   \n",
       "8               Haryana Legislative Assembly   \n",
       "9      Himachal Pradesh Legislative Assembly   \n",
       "10    Jammu and Kashmir Legislative Assembly   \n",
       "11            Jharkhand Legislative Assembly   \n",
       "12            Karnataka Legislative Assembly   \n",
       "13               Kerala Legislative Assembly   \n",
       "14       Madhya Pradesh Legislative Assembly   \n",
       "15          Maharashtra Legislative Assembly   \n",
       "16              Manipur Legislative Assembly   \n",
       "17            Meghalaya Legislative Assembly   \n",
       "18              Mizoram Legislative Assembly   \n",
       "19             Nagaland Legislative Assembly   \n",
       "20               Odisha Legislative Assembly   \n",
       "21           Puducherry Legislative Assembly   \n",
       "22               Punjab Legislative Assembly   \n",
       "23            Rajasthan Legislative Assembly   \n",
       "24               Sikkim Legislative Assembly   \n",
       "25           Tamil Nadu Legislative Assembly   \n",
       "26            Telangana Legislative Assembly   \n",
       "27              Tripura Legislative Assembly   \n",
       "28        Uttar Pradesh Legislative Assembly   \n",
       "29          Uttarakhand Legislative Assembly   \n",
       "30          West Bengal Legislative Assembly   \n",
       "\n",
       "                      Seat/state capital Number of constituencies  \\\n",
       "0                              Amaravati                      175   \n",
       "1                               Itanagar                       60   \n",
       "2                                 Dispur                      126   \n",
       "3                                  Patna                      243   \n",
       "4                            Naya Raipur                       90   \n",
       "5                              New Delhi                       70   \n",
       "6                                 Panaji                       40   \n",
       "7                            Gandhinagar                      182   \n",
       "8                             Chandigarh                       90   \n",
       "9   Shimla (summer) Dharamshala (winter)                       68   \n",
       "10      Srinagar (summer) Jammu (winter)                      85†   \n",
       "11                                Ranchi                       81   \n",
       "12   Bangalore (summer) Belgaum (winter)                      224   \n",
       "13                    Thiruvananthapuram                      140   \n",
       "14                                Bhopal                      230   \n",
       "15       Mumbai (summer) Nagpur (winter)                      288   \n",
       "16                                Imphal                       60   \n",
       "17                              Shillong                       60   \n",
       "18                                Aizawl                       40   \n",
       "19                                Kohima                       60   \n",
       "20                          Bhubaneshwar                      147   \n",
       "21                            Puducherry                      33‡   \n",
       "22                            Chandigarh                      117   \n",
       "23                                Jaipur                      200   \n",
       "24                               Gangtok                       32   \n",
       "25                               Chennai                      234   \n",
       "26                             Hyderabad                      119   \n",
       "27                              Agartala                       60   \n",
       "28                               Lucknow                      403   \n",
       "29   Gairsain (summer) Dehradun (winter)                       70   \n",
       "30                               Kolkata                      294   \n",
       "\n",
       "                                Ruling party          Current house  \n",
       "0                         YSR Congress Party              Fifteenth  \n",
       "1                     Bharatiya Janata Party                Seventh  \n",
       "2                     Bharatiya Janata Party             Thirteenth  \n",
       "3                        Janata Dal (United)            Seventeenth  \n",
       "4                   Indian National Congress                  Fifth  \n",
       "5                            Aam Aadmi Party                Seventh  \n",
       "6                     Bharatiya Janata Party                Seventh  \n",
       "7                     Bharatiya Janata Party             Fourteenth  \n",
       "8                     Bharatiya Janata Party             Fourteenth  \n",
       "9                     Bharatiya Janata Party             Thirteenth  \n",
       "10                     N/A(President's rule)  N/A(President's rule)  \n",
       "11                    Jharkhand Mukti Morcha                  Fifth  \n",
       "12                    Bharatiya Janata Party              Fifteenth  \n",
       "13        Communist Party of India (Marxist)             Fourteenth  \n",
       "14                    Bharatiya Janata Party              Fifteenth  \n",
       "15                                 Shiv Sena             Fourteenth  \n",
       "16                    Bharatiya Janata Party                Twelfth  \n",
       "17                   National People's Party                  Tenth  \n",
       "18                       Mizo National Front                Seventh  \n",
       "19  Nationalist Democratic Progressive Party             Thirteenth  \n",
       "20                           Biju Janata Dal              Sixteenth  \n",
       "21                  Indian National Congress             Fourteenth  \n",
       "22                  Indian National Congress              Fifteenth  \n",
       "23                  Indian National Congress              Fifteenth  \n",
       "24                  Sikkim Krantikari Morcha                  Tenth  \n",
       "25  All India Anna Dravida Munnetra Kazhagam              Fifteenth  \n",
       "26                 Telangana Rashtra Samithi                 Second  \n",
       "27                    Bharatiya Janata Party                Twelfth  \n",
       "28                    Bharatiya Janata Party            Seventeenth  \n",
       "29                    Bharatiya Janata Party                 Fourth  \n",
       "30              All India Trinamool Congress              Sixteenth  "
      ]
     },
     "execution_count": 13,
     "metadata": {},
     "output_type": "execute_result"
    }
   ],
   "source": [
    "df=df.iloc[0:31,:]\n",
    "df"
   ]
  },
  {
   "cell_type": "markdown",
   "metadata": {},
   "source": [
    "Removing Legislative Assembly with white space"
   ]
  },
  {
   "cell_type": "code",
   "execution_count": 18,
   "metadata": {},
   "outputs": [
    {
     "name": "stderr",
     "output_type": "stream",
     "text": [
      "C:\\Users\\Fakhruddin\\Anaconda3\\lib\\site-packages\\ipykernel_launcher.py:1: SettingWithCopyWarning: \n",
      "A value is trying to be set on a copy of a slice from a DataFrame.\n",
      "Try using .loc[row_indexer,col_indexer] = value instead\n",
      "\n",
      "See the caveats in the documentation: https://pandas.pydata.org/pandas-docs/stable/user_guide/indexing.html#returning-a-view-versus-a-copy\n",
      "  \"\"\"Entry point for launching an IPython kernel.\n"
     ]
    }
   ],
   "source": [
    "df['State Legislative Assembly (Vidhan Sabha)']=df['State Legislative Assembly (Vidhan Sabha)'].replace(to_replace=r'Legislative Assembly', value=' ', regex=True)"
   ]
  },
  {
   "cell_type": "code",
   "execution_count": 20,
   "metadata": {},
   "outputs": [
    {
     "data": {
      "text/html": [
       "<div>\n",
       "<style scoped>\n",
       "    .dataframe tbody tr th:only-of-type {\n",
       "        vertical-align: middle;\n",
       "    }\n",
       "\n",
       "    .dataframe tbody tr th {\n",
       "        vertical-align: top;\n",
       "    }\n",
       "\n",
       "    .dataframe thead th {\n",
       "        text-align: right;\n",
       "    }\n",
       "</style>\n",
       "<table border=\"1\" class=\"dataframe\">\n",
       "  <thead>\n",
       "    <tr style=\"text-align: right;\">\n",
       "      <th></th>\n",
       "      <th>State Legislative Assembly (Vidhan Sabha)</th>\n",
       "      <th>Seat/state capital</th>\n",
       "      <th>Number of constituencies</th>\n",
       "      <th>Ruling party</th>\n",
       "      <th>Current house</th>\n",
       "    </tr>\n",
       "  </thead>\n",
       "  <tbody>\n",
       "    <tr>\n",
       "      <th>0</th>\n",
       "      <td>Andhra Pradesh</td>\n",
       "      <td>Amaravati</td>\n",
       "      <td>175</td>\n",
       "      <td>YSR Congress Party</td>\n",
       "      <td>Fifteenth</td>\n",
       "    </tr>\n",
       "    <tr>\n",
       "      <th>1</th>\n",
       "      <td>Arunachal Pradesh</td>\n",
       "      <td>Itanagar</td>\n",
       "      <td>60</td>\n",
       "      <td>Bharatiya Janata Party</td>\n",
       "      <td>Seventh</td>\n",
       "    </tr>\n",
       "    <tr>\n",
       "      <th>2</th>\n",
       "      <td>Assam</td>\n",
       "      <td>Dispur</td>\n",
       "      <td>126</td>\n",
       "      <td>Bharatiya Janata Party</td>\n",
       "      <td>Thirteenth</td>\n",
       "    </tr>\n",
       "    <tr>\n",
       "      <th>3</th>\n",
       "      <td>Bihar</td>\n",
       "      <td>Patna</td>\n",
       "      <td>243</td>\n",
       "      <td>Janata Dal (United)</td>\n",
       "      <td>Seventeenth</td>\n",
       "    </tr>\n",
       "    <tr>\n",
       "      <th>4</th>\n",
       "      <td>Chhattisgarh</td>\n",
       "      <td>Naya Raipur</td>\n",
       "      <td>90</td>\n",
       "      <td>Indian National Congress</td>\n",
       "      <td>Fifth</td>\n",
       "    </tr>\n",
       "  </tbody>\n",
       "</table>\n",
       "</div>"
      ],
      "text/plain": [
       "  State Legislative Assembly (Vidhan Sabha) Seat/state capital  \\\n",
       "0                          Andhra Pradesh            Amaravati   \n",
       "1                       Arunachal Pradesh             Itanagar   \n",
       "2                                   Assam               Dispur   \n",
       "3                                   Bihar                Patna   \n",
       "4                            Chhattisgarh          Naya Raipur   \n",
       "\n",
       "  Number of constituencies              Ruling party Current house  \n",
       "0                      175        YSR Congress Party     Fifteenth  \n",
       "1                       60    Bharatiya Janata Party       Seventh  \n",
       "2                      126    Bharatiya Janata Party    Thirteenth  \n",
       "3                      243       Janata Dal (United)   Seventeenth  \n",
       "4                       90  Indian National Congress         Fifth  "
      ]
     },
     "execution_count": 20,
     "metadata": {},
     "output_type": "execute_result"
    }
   ],
   "source": [
    "df.head()"
   ]
  },
  {
   "cell_type": "markdown",
   "metadata": {},
   "source": [
    "# Saving the Cleaned file as csv"
   ]
  },
  {
   "cell_type": "code",
   "execution_count": 21,
   "metadata": {},
   "outputs": [],
   "source": [
    "df.to_csv('State Legislative Assembly(Vidhan Sabha).csv')"
   ]
  },
  {
   "cell_type": "code",
   "execution_count": 1,
   "metadata": {},
   "outputs": [],
   "source": [
    "import pandas as pd"
   ]
  },
  {
   "cell_type": "code",
   "execution_count": 9,
   "metadata": {},
   "outputs": [],
   "source": [
    "df=pd.read_csv('C:\\\\Users\\\\Fakhruddin\\\\Understanding-India\\\\Dataset\\\\State Legislative Assembly(Vidhan Sabha).csv')"
   ]
  },
  {
   "cell_type": "code",
   "execution_count": 10,
   "metadata": {},
   "outputs": [
    {
     "data": {
      "text/html": [
       "<div>\n",
       "<style scoped>\n",
       "    .dataframe tbody tr th:only-of-type {\n",
       "        vertical-align: middle;\n",
       "    }\n",
       "\n",
       "    .dataframe tbody tr th {\n",
       "        vertical-align: top;\n",
       "    }\n",
       "\n",
       "    .dataframe thead th {\n",
       "        text-align: right;\n",
       "    }\n",
       "</style>\n",
       "<table border=\"1\" class=\"dataframe\">\n",
       "  <thead>\n",
       "    <tr style=\"text-align: right;\">\n",
       "      <th></th>\n",
       "      <th>Unnamed: 0</th>\n",
       "      <th>State Legislative Assembly (Vidhan Sabha)</th>\n",
       "      <th>Seat/state capital</th>\n",
       "      <th>Number of constituencies</th>\n",
       "      <th>Ruling party</th>\n",
       "      <th>Current house</th>\n",
       "    </tr>\n",
       "  </thead>\n",
       "  <tbody>\n",
       "    <tr>\n",
       "      <th>0</th>\n",
       "      <td>0</td>\n",
       "      <td>Andhra Pradesh</td>\n",
       "      <td>Amaravati</td>\n",
       "      <td>175</td>\n",
       "      <td>YSR Congress Party</td>\n",
       "      <td>Fifteenth</td>\n",
       "    </tr>\n",
       "    <tr>\n",
       "      <th>1</th>\n",
       "      <td>1</td>\n",
       "      <td>Arunachal Pradesh</td>\n",
       "      <td>Itanagar</td>\n",
       "      <td>60</td>\n",
       "      <td>Bharatiya Janata Party</td>\n",
       "      <td>Seventh</td>\n",
       "    </tr>\n",
       "    <tr>\n",
       "      <th>2</th>\n",
       "      <td>2</td>\n",
       "      <td>Assam</td>\n",
       "      <td>Dispur</td>\n",
       "      <td>126</td>\n",
       "      <td>Bharatiya Janata Party</td>\n",
       "      <td>Thirteenth</td>\n",
       "    </tr>\n",
       "    <tr>\n",
       "      <th>3</th>\n",
       "      <td>3</td>\n",
       "      <td>Bihar</td>\n",
       "      <td>Patna</td>\n",
       "      <td>243</td>\n",
       "      <td>Janata Dal (United)</td>\n",
       "      <td>Seventeenth</td>\n",
       "    </tr>\n",
       "    <tr>\n",
       "      <th>4</th>\n",
       "      <td>4</td>\n",
       "      <td>Chhattisgarh</td>\n",
       "      <td>Naya Raipur</td>\n",
       "      <td>90</td>\n",
       "      <td>Indian National Congress</td>\n",
       "      <td>Fifth</td>\n",
       "    </tr>\n",
       "  </tbody>\n",
       "</table>\n",
       "</div>"
      ],
      "text/plain": [
       "   Unnamed: 0 State Legislative Assembly (Vidhan Sabha) Seat/state capital  \\\n",
       "0           0                          Andhra Pradesh            Amaravati   \n",
       "1           1                       Arunachal Pradesh             Itanagar   \n",
       "2           2                                   Assam               Dispur   \n",
       "3           3                                   Bihar                Patna   \n",
       "4           4                            Chhattisgarh          Naya Raipur   \n",
       "\n",
       "  Number of constituencies              Ruling party Current house  \n",
       "0                      175        YSR Congress Party     Fifteenth  \n",
       "1                       60    Bharatiya Janata Party       Seventh  \n",
       "2                      126    Bharatiya Janata Party    Thirteenth  \n",
       "3                      243       Janata Dal (United)   Seventeenth  \n",
       "4                       90  Indian National Congress         Fifth  "
      ]
     },
     "execution_count": 10,
     "metadata": {},
     "output_type": "execute_result"
    }
   ],
   "source": [
    "df.head()"
   ]
  },
  {
   "cell_type": "code",
   "execution_count": 11,
   "metadata": {},
   "outputs": [],
   "source": [
    "df=df.drop('Unnamed: 0',axis=1)"
   ]
  },
  {
   "cell_type": "code",
   "execution_count": 12,
   "metadata": {},
   "outputs": [
    {
     "data": {
      "text/html": [
       "<div>\n",
       "<style scoped>\n",
       "    .dataframe tbody tr th:only-of-type {\n",
       "        vertical-align: middle;\n",
       "    }\n",
       "\n",
       "    .dataframe tbody tr th {\n",
       "        vertical-align: top;\n",
       "    }\n",
       "\n",
       "    .dataframe thead th {\n",
       "        text-align: right;\n",
       "    }\n",
       "</style>\n",
       "<table border=\"1\" class=\"dataframe\">\n",
       "  <thead>\n",
       "    <tr style=\"text-align: right;\">\n",
       "      <th></th>\n",
       "      <th>State Legislative Assembly (Vidhan Sabha)</th>\n",
       "      <th>Seat/state capital</th>\n",
       "      <th>Number of constituencies</th>\n",
       "      <th>Ruling party</th>\n",
       "      <th>Current house</th>\n",
       "    </tr>\n",
       "  </thead>\n",
       "  <tbody>\n",
       "    <tr>\n",
       "      <th>0</th>\n",
       "      <td>Andhra Pradesh</td>\n",
       "      <td>Amaravati</td>\n",
       "      <td>175</td>\n",
       "      <td>YSR Congress Party</td>\n",
       "      <td>Fifteenth</td>\n",
       "    </tr>\n",
       "    <tr>\n",
       "      <th>1</th>\n",
       "      <td>Arunachal Pradesh</td>\n",
       "      <td>Itanagar</td>\n",
       "      <td>60</td>\n",
       "      <td>Bharatiya Janata Party</td>\n",
       "      <td>Seventh</td>\n",
       "    </tr>\n",
       "    <tr>\n",
       "      <th>2</th>\n",
       "      <td>Assam</td>\n",
       "      <td>Dispur</td>\n",
       "      <td>126</td>\n",
       "      <td>Bharatiya Janata Party</td>\n",
       "      <td>Thirteenth</td>\n",
       "    </tr>\n",
       "    <tr>\n",
       "      <th>3</th>\n",
       "      <td>Bihar</td>\n",
       "      <td>Patna</td>\n",
       "      <td>243</td>\n",
       "      <td>Janata Dal (United)</td>\n",
       "      <td>Seventeenth</td>\n",
       "    </tr>\n",
       "    <tr>\n",
       "      <th>4</th>\n",
       "      <td>Chhattisgarh</td>\n",
       "      <td>Naya Raipur</td>\n",
       "      <td>90</td>\n",
       "      <td>Indian National Congress</td>\n",
       "      <td>Fifth</td>\n",
       "    </tr>\n",
       "  </tbody>\n",
       "</table>\n",
       "</div>"
      ],
      "text/plain": [
       "  State Legislative Assembly (Vidhan Sabha) Seat/state capital  \\\n",
       "0                          Andhra Pradesh            Amaravati   \n",
       "1                       Arunachal Pradesh             Itanagar   \n",
       "2                                   Assam               Dispur   \n",
       "3                                   Bihar                Patna   \n",
       "4                            Chhattisgarh          Naya Raipur   \n",
       "\n",
       "  Number of constituencies              Ruling party Current house  \n",
       "0                      175        YSR Congress Party     Fifteenth  \n",
       "1                       60    Bharatiya Janata Party       Seventh  \n",
       "2                      126    Bharatiya Janata Party    Thirteenth  \n",
       "3                      243       Janata Dal (United)   Seventeenth  \n",
       "4                       90  Indian National Congress         Fifth  "
      ]
     },
     "execution_count": 12,
     "metadata": {},
     "output_type": "execute_result"
    }
   ],
   "source": [
    "df.head()"
   ]
  },
  {
   "cell_type": "code",
   "execution_count": 25,
   "metadata": {},
   "outputs": [
    {
     "ename": "TypeError",
     "evalue": "'bool' object is not callable",
     "output_type": "error",
     "traceback": [
      "\u001b[1;31m---------------------------------------------------------------------------\u001b[0m",
      "\u001b[1;31mTypeError\u001b[0m                                 Traceback (most recent call last)",
      "\u001b[1;32m<ipython-input-25-d7686dad1bc8>\u001b[0m in \u001b[0;36m<module>\u001b[1;34m\u001b[0m\n\u001b[1;32m----> 1\u001b[1;33m \u001b[0mdf\u001b[0m\u001b[1;33m.\u001b[0m\u001b[0mgroupby\u001b[0m\u001b[1;33m(\u001b[0m\u001b[1;33m[\u001b[0m\u001b[1;34m'State Legislative Assembly (Vidhan Sabha)'\u001b[0m\u001b[1;33m]\u001b[0m\u001b[1;33m)\u001b[0m\u001b[1;33m[\u001b[0m\u001b[1;34m'Number of constituencies'\u001b[0m\u001b[1;33m]\u001b[0m\u001b[1;33m.\u001b[0m\u001b[0msort\u001b[0m\u001b[1;33m(\u001b[0m\u001b[0mby\u001b[0m\u001b[1;33m=\u001b[0m\u001b[1;34m'State Legislative Assembly (Vidhan Sabha)'\u001b[0m\u001b[1;33m)\u001b[0m\u001b[1;33m\u001b[0m\u001b[1;33m\u001b[0m\u001b[0m\n\u001b[0m",
      "\u001b[1;31mTypeError\u001b[0m: 'bool' object is not callable"
     ]
    }
   ],
   "source": [
    "df.groupby(['State Legislative Assembly (Vidhan Sabha)'])['Number of constituencies'].sort(by='State Legislative Assembly (Vidhan Sabha)')"
   ]
  },
  {
   "cell_type": "code",
   "execution_count": 34,
   "metadata": {},
   "outputs": [
    {
     "data": {
      "text/html": [
       "<div>\n",
       "<style scoped>\n",
       "    .dataframe tbody tr th:only-of-type {\n",
       "        vertical-align: middle;\n",
       "    }\n",
       "\n",
       "    .dataframe tbody tr th {\n",
       "        vertical-align: top;\n",
       "    }\n",
       "\n",
       "    .dataframe thead th {\n",
       "        text-align: right;\n",
       "    }\n",
       "</style>\n",
       "<table border=\"1\" class=\"dataframe\">\n",
       "  <thead>\n",
       "    <tr style=\"text-align: right;\">\n",
       "      <th></th>\n",
       "      <th>State Legislative Assembly (Vidhan Sabha)</th>\n",
       "      <th>Seat/state capital</th>\n",
       "      <th>Number of constituencies</th>\n",
       "      <th>Ruling party</th>\n",
       "      <th>Current house</th>\n",
       "    </tr>\n",
       "  </thead>\n",
       "  <tbody>\n",
       "    <tr>\n",
       "      <th>0</th>\n",
       "      <td>Andhra Pradesh</td>\n",
       "      <td>Amaravati</td>\n",
       "      <td>175</td>\n",
       "      <td>YSR Congress Party</td>\n",
       "      <td>Fifteenth</td>\n",
       "    </tr>\n",
       "    <tr>\n",
       "      <th>1</th>\n",
       "      <td>Arunachal Pradesh</td>\n",
       "      <td>Itanagar</td>\n",
       "      <td>60</td>\n",
       "      <td>Bharatiya Janata Party</td>\n",
       "      <td>Seventh</td>\n",
       "    </tr>\n",
       "    <tr>\n",
       "      <th>2</th>\n",
       "      <td>Assam</td>\n",
       "      <td>Dispur</td>\n",
       "      <td>126</td>\n",
       "      <td>Bharatiya Janata Party</td>\n",
       "      <td>Thirteenth</td>\n",
       "    </tr>\n",
       "    <tr>\n",
       "      <th>3</th>\n",
       "      <td>Bihar</td>\n",
       "      <td>Patna</td>\n",
       "      <td>243</td>\n",
       "      <td>Janata Dal (United)</td>\n",
       "      <td>Seventeenth</td>\n",
       "    </tr>\n",
       "    <tr>\n",
       "      <th>4</th>\n",
       "      <td>Chhattisgarh</td>\n",
       "      <td>Naya Raipur</td>\n",
       "      <td>90</td>\n",
       "      <td>Indian National Congress</td>\n",
       "      <td>Fifth</td>\n",
       "    </tr>\n",
       "    <tr>\n",
       "      <th>5</th>\n",
       "      <td>Delhi</td>\n",
       "      <td>New Delhi</td>\n",
       "      <td>70</td>\n",
       "      <td>Aam Aadmi Party</td>\n",
       "      <td>Seventh</td>\n",
       "    </tr>\n",
       "    <tr>\n",
       "      <th>6</th>\n",
       "      <td>Goa</td>\n",
       "      <td>Panaji</td>\n",
       "      <td>40</td>\n",
       "      <td>Bharatiya Janata Party</td>\n",
       "      <td>Seventh</td>\n",
       "    </tr>\n",
       "    <tr>\n",
       "      <th>7</th>\n",
       "      <td>Gujarat</td>\n",
       "      <td>Gandhinagar</td>\n",
       "      <td>182</td>\n",
       "      <td>Bharatiya Janata Party</td>\n",
       "      <td>Fourteenth</td>\n",
       "    </tr>\n",
       "    <tr>\n",
       "      <th>8</th>\n",
       "      <td>Haryana</td>\n",
       "      <td>Chandigarh</td>\n",
       "      <td>90</td>\n",
       "      <td>Bharatiya Janata Party</td>\n",
       "      <td>Fourteenth</td>\n",
       "    </tr>\n",
       "    <tr>\n",
       "      <th>9</th>\n",
       "      <td>Himachal Pradesh</td>\n",
       "      <td>Shimla (summer) Dharamshala (winter)</td>\n",
       "      <td>68</td>\n",
       "      <td>Bharatiya Janata Party</td>\n",
       "      <td>Thirteenth</td>\n",
       "    </tr>\n",
       "    <tr>\n",
       "      <th>10</th>\n",
       "      <td>Jammu and Kashmir</td>\n",
       "      <td>Srinagar (summer) Jammu (winter)</td>\n",
       "      <td>85</td>\n",
       "      <td>N/A(President's rule)</td>\n",
       "      <td>N/A(President's rule)</td>\n",
       "    </tr>\n",
       "    <tr>\n",
       "      <th>11</th>\n",
       "      <td>Jharkhand</td>\n",
       "      <td>Ranchi</td>\n",
       "      <td>81</td>\n",
       "      <td>Jharkhand Mukti Morcha</td>\n",
       "      <td>Fifth</td>\n",
       "    </tr>\n",
       "    <tr>\n",
       "      <th>12</th>\n",
       "      <td>Karnataka</td>\n",
       "      <td>Bangalore (summer) Belgaum (winter)</td>\n",
       "      <td>224</td>\n",
       "      <td>Bharatiya Janata Party</td>\n",
       "      <td>Fifteenth</td>\n",
       "    </tr>\n",
       "    <tr>\n",
       "      <th>13</th>\n",
       "      <td>Kerala</td>\n",
       "      <td>Thiruvananthapuram</td>\n",
       "      <td>140</td>\n",
       "      <td>Communist Party of India (Marxist)</td>\n",
       "      <td>Fourteenth</td>\n",
       "    </tr>\n",
       "    <tr>\n",
       "      <th>14</th>\n",
       "      <td>Madhya Pradesh</td>\n",
       "      <td>Bhopal</td>\n",
       "      <td>230</td>\n",
       "      <td>Bharatiya Janata Party</td>\n",
       "      <td>Fifteenth</td>\n",
       "    </tr>\n",
       "    <tr>\n",
       "      <th>15</th>\n",
       "      <td>Maharashtra</td>\n",
       "      <td>Mumbai (summer) Nagpur (winter)</td>\n",
       "      <td>288</td>\n",
       "      <td>Shiv Sena</td>\n",
       "      <td>Fourteenth</td>\n",
       "    </tr>\n",
       "    <tr>\n",
       "      <th>16</th>\n",
       "      <td>Manipur</td>\n",
       "      <td>Imphal</td>\n",
       "      <td>60</td>\n",
       "      <td>Bharatiya Janata Party</td>\n",
       "      <td>Twelfth</td>\n",
       "    </tr>\n",
       "    <tr>\n",
       "      <th>17</th>\n",
       "      <td>Meghalaya</td>\n",
       "      <td>Shillong</td>\n",
       "      <td>60</td>\n",
       "      <td>National People's Party</td>\n",
       "      <td>Tenth</td>\n",
       "    </tr>\n",
       "    <tr>\n",
       "      <th>18</th>\n",
       "      <td>Mizoram</td>\n",
       "      <td>Aizawl</td>\n",
       "      <td>40</td>\n",
       "      <td>Mizo National Front</td>\n",
       "      <td>Seventh</td>\n",
       "    </tr>\n",
       "    <tr>\n",
       "      <th>19</th>\n",
       "      <td>Nagaland</td>\n",
       "      <td>Kohima</td>\n",
       "      <td>60</td>\n",
       "      <td>Nationalist Democratic Progressive Party</td>\n",
       "      <td>Thirteenth</td>\n",
       "    </tr>\n",
       "    <tr>\n",
       "      <th>20</th>\n",
       "      <td>Odisha</td>\n",
       "      <td>Bhubaneshwar</td>\n",
       "      <td>147</td>\n",
       "      <td>Biju Janata Dal</td>\n",
       "      <td>Sixteenth</td>\n",
       "    </tr>\n",
       "    <tr>\n",
       "      <th>21</th>\n",
       "      <td>Puducherry</td>\n",
       "      <td>Puducherry</td>\n",
       "      <td>33</td>\n",
       "      <td>Indian National Congress</td>\n",
       "      <td>Fourteenth</td>\n",
       "    </tr>\n",
       "    <tr>\n",
       "      <th>22</th>\n",
       "      <td>Punjab</td>\n",
       "      <td>Chandigarh</td>\n",
       "      <td>117</td>\n",
       "      <td>Indian National Congress</td>\n",
       "      <td>Fifteenth</td>\n",
       "    </tr>\n",
       "    <tr>\n",
       "      <th>23</th>\n",
       "      <td>Rajasthan</td>\n",
       "      <td>Jaipur</td>\n",
       "      <td>200</td>\n",
       "      <td>Indian National Congress</td>\n",
       "      <td>Fifteenth</td>\n",
       "    </tr>\n",
       "    <tr>\n",
       "      <th>24</th>\n",
       "      <td>Sikkim</td>\n",
       "      <td>Gangtok</td>\n",
       "      <td>32</td>\n",
       "      <td>Sikkim Krantikari Morcha</td>\n",
       "      <td>Tenth</td>\n",
       "    </tr>\n",
       "    <tr>\n",
       "      <th>25</th>\n",
       "      <td>Tamil Nadu</td>\n",
       "      <td>Chennai</td>\n",
       "      <td>234</td>\n",
       "      <td>All India Anna Dravida Munnetra Kazhagam</td>\n",
       "      <td>Fifteenth</td>\n",
       "    </tr>\n",
       "    <tr>\n",
       "      <th>26</th>\n",
       "      <td>Telangana</td>\n",
       "      <td>Hyderabad</td>\n",
       "      <td>119</td>\n",
       "      <td>Telangana Rashtra Samithi</td>\n",
       "      <td>Second</td>\n",
       "    </tr>\n",
       "    <tr>\n",
       "      <th>27</th>\n",
       "      <td>Tripura</td>\n",
       "      <td>Agartala</td>\n",
       "      <td>60</td>\n",
       "      <td>Bharatiya Janata Party</td>\n",
       "      <td>Twelfth</td>\n",
       "    </tr>\n",
       "    <tr>\n",
       "      <th>28</th>\n",
       "      <td>Uttar Pradesh</td>\n",
       "      <td>Lucknow</td>\n",
       "      <td>403</td>\n",
       "      <td>Bharatiya Janata Party</td>\n",
       "      <td>Seventeenth</td>\n",
       "    </tr>\n",
       "    <tr>\n",
       "      <th>29</th>\n",
       "      <td>Uttarakhand</td>\n",
       "      <td>Gairsain (summer) Dehradun (winter)</td>\n",
       "      <td>70</td>\n",
       "      <td>Bharatiya Janata Party</td>\n",
       "      <td>Fourth</td>\n",
       "    </tr>\n",
       "    <tr>\n",
       "      <th>30</th>\n",
       "      <td>West Bengal</td>\n",
       "      <td>Kolkata</td>\n",
       "      <td>294</td>\n",
       "      <td>All India Trinamool Congress</td>\n",
       "      <td>Sixteenth</td>\n",
       "    </tr>\n",
       "  </tbody>\n",
       "</table>\n",
       "</div>"
      ],
      "text/plain": [
       "   State Legislative Assembly (Vidhan Sabha)  \\\n",
       "0                           Andhra Pradesh     \n",
       "1                        Arunachal Pradesh     \n",
       "2                                    Assam     \n",
       "3                                    Bihar     \n",
       "4                             Chhattisgarh     \n",
       "5                                    Delhi     \n",
       "6                                      Goa     \n",
       "7                                  Gujarat     \n",
       "8                                  Haryana     \n",
       "9                         Himachal Pradesh     \n",
       "10                       Jammu and Kashmir     \n",
       "11                               Jharkhand     \n",
       "12                               Karnataka     \n",
       "13                                  Kerala     \n",
       "14                          Madhya Pradesh     \n",
       "15                             Maharashtra     \n",
       "16                                 Manipur     \n",
       "17                               Meghalaya     \n",
       "18                                 Mizoram     \n",
       "19                                Nagaland     \n",
       "20                                  Odisha     \n",
       "21                              Puducherry     \n",
       "22                                  Punjab     \n",
       "23                               Rajasthan     \n",
       "24                                  Sikkim     \n",
       "25                              Tamil Nadu     \n",
       "26                               Telangana     \n",
       "27                                 Tripura     \n",
       "28                           Uttar Pradesh     \n",
       "29                             Uttarakhand     \n",
       "30                             West Bengal     \n",
       "\n",
       "                      Seat/state capital Number of constituencies  \\\n",
       "0                              Amaravati                      175   \n",
       "1                               Itanagar                       60   \n",
       "2                                 Dispur                      126   \n",
       "3                                  Patna                      243   \n",
       "4                            Naya Raipur                       90   \n",
       "5                              New Delhi                       70   \n",
       "6                                 Panaji                       40   \n",
       "7                            Gandhinagar                      182   \n",
       "8                             Chandigarh                       90   \n",
       "9   Shimla (summer) Dharamshala (winter)                       68   \n",
       "10      Srinagar (summer) Jammu (winter)                       85   \n",
       "11                                Ranchi                       81   \n",
       "12   Bangalore (summer) Belgaum (winter)                      224   \n",
       "13                    Thiruvananthapuram                      140   \n",
       "14                                Bhopal                      230   \n",
       "15       Mumbai (summer) Nagpur (winter)                      288   \n",
       "16                                Imphal                       60   \n",
       "17                              Shillong                       60   \n",
       "18                                Aizawl                       40   \n",
       "19                                Kohima                       60   \n",
       "20                          Bhubaneshwar                      147   \n",
       "21                            Puducherry                       33   \n",
       "22                            Chandigarh                      117   \n",
       "23                                Jaipur                      200   \n",
       "24                               Gangtok                       32   \n",
       "25                               Chennai                      234   \n",
       "26                             Hyderabad                      119   \n",
       "27                              Agartala                       60   \n",
       "28                               Lucknow                      403   \n",
       "29   Gairsain (summer) Dehradun (winter)                       70   \n",
       "30                               Kolkata                      294   \n",
       "\n",
       "                                Ruling party          Current house  \n",
       "0                         YSR Congress Party              Fifteenth  \n",
       "1                     Bharatiya Janata Party                Seventh  \n",
       "2                     Bharatiya Janata Party             Thirteenth  \n",
       "3                        Janata Dal (United)            Seventeenth  \n",
       "4                   Indian National Congress                  Fifth  \n",
       "5                            Aam Aadmi Party                Seventh  \n",
       "6                     Bharatiya Janata Party                Seventh  \n",
       "7                     Bharatiya Janata Party             Fourteenth  \n",
       "8                     Bharatiya Janata Party             Fourteenth  \n",
       "9                     Bharatiya Janata Party             Thirteenth  \n",
       "10                     N/A(President's rule)  N/A(President's rule)  \n",
       "11                    Jharkhand Mukti Morcha                  Fifth  \n",
       "12                    Bharatiya Janata Party              Fifteenth  \n",
       "13        Communist Party of India (Marxist)             Fourteenth  \n",
       "14                    Bharatiya Janata Party              Fifteenth  \n",
       "15                                 Shiv Sena             Fourteenth  \n",
       "16                    Bharatiya Janata Party                Twelfth  \n",
       "17                   National People's Party                  Tenth  \n",
       "18                       Mizo National Front                Seventh  \n",
       "19  Nationalist Democratic Progressive Party             Thirteenth  \n",
       "20                           Biju Janata Dal              Sixteenth  \n",
       "21                  Indian National Congress             Fourteenth  \n",
       "22                  Indian National Congress              Fifteenth  \n",
       "23                  Indian National Congress              Fifteenth  \n",
       "24                  Sikkim Krantikari Morcha                  Tenth  \n",
       "25  All India Anna Dravida Munnetra Kazhagam              Fifteenth  \n",
       "26                 Telangana Rashtra Samithi                 Second  \n",
       "27                    Bharatiya Janata Party                Twelfth  \n",
       "28                    Bharatiya Janata Party            Seventeenth  \n",
       "29                    Bharatiya Janata Party                 Fourth  \n",
       "30              All India Trinamool Congress              Sixteenth  "
      ]
     },
     "execution_count": 34,
     "metadata": {},
     "output_type": "execute_result"
    }
   ],
   "source": [
    "df['Number of constituencies']=df['Number of constituencies'].replace('33‡','33')\n",
    "df['Number of constituencies']=df['Number of constituencies'].replace('85†','85')\n",
    "df"
   ]
  },
  {
   "cell_type": "code",
   "execution_count": 36,
   "metadata": {},
   "outputs": [
    {
     "data": {
      "text/plain": [
       "State Legislative Assembly (Vidhan Sabha)    object\n",
       "Seat/state capital                           object\n",
       "Number of constituencies                     object\n",
       "Ruling party                                 object\n",
       "Current house                                object\n",
       "dtype: object"
      ]
     },
     "execution_count": 36,
     "metadata": {},
     "output_type": "execute_result"
    }
   ],
   "source": [
    "df.dtypes"
   ]
  },
  {
   "cell_type": "code",
   "execution_count": 37,
   "metadata": {},
   "outputs": [],
   "source": [
    "df['Number of constituencies']=df['Number of constituencies'].astype(int)"
   ]
  },
  {
   "cell_type": "code",
   "execution_count": 38,
   "metadata": {},
   "outputs": [
    {
     "data": {
      "text/plain": [
       "State Legislative Assembly (Vidhan Sabha)    object\n",
       "Seat/state capital                           object\n",
       "Number of constituencies                      int32\n",
       "Ruling party                                 object\n",
       "Current house                                object\n",
       "dtype: object"
      ]
     },
     "execution_count": 38,
     "metadata": {},
     "output_type": "execute_result"
    }
   ],
   "source": [
    "df.dtypes"
   ]
  },
  {
   "cell_type": "code",
   "execution_count": 44,
   "metadata": {},
   "outputs": [
    {
     "data": {
      "text/html": [
       "<div>\n",
       "<style scoped>\n",
       "    .dataframe tbody tr th:only-of-type {\n",
       "        vertical-align: middle;\n",
       "    }\n",
       "\n",
       "    .dataframe tbody tr th {\n",
       "        vertical-align: top;\n",
       "    }\n",
       "\n",
       "    .dataframe thead th {\n",
       "        text-align: right;\n",
       "    }\n",
       "</style>\n",
       "<table border=\"1\" class=\"dataframe\">\n",
       "  <thead>\n",
       "    <tr style=\"text-align: right;\">\n",
       "      <th></th>\n",
       "      <th>State Legislative Assembly (Vidhan Sabha)</th>\n",
       "      <th>Seat/state capital</th>\n",
       "      <th>Number of constituencies</th>\n",
       "      <th>Ruling party</th>\n",
       "      <th>Current house</th>\n",
       "    </tr>\n",
       "  </thead>\n",
       "  <tbody>\n",
       "    <tr>\n",
       "      <th>28</th>\n",
       "      <td>Uttar Pradesh</td>\n",
       "      <td>Lucknow</td>\n",
       "      <td>403</td>\n",
       "      <td>Bharatiya Janata Party</td>\n",
       "      <td>Seventeenth</td>\n",
       "    </tr>\n",
       "    <tr>\n",
       "      <th>30</th>\n",
       "      <td>West Bengal</td>\n",
       "      <td>Kolkata</td>\n",
       "      <td>294</td>\n",
       "      <td>All India Trinamool Congress</td>\n",
       "      <td>Sixteenth</td>\n",
       "    </tr>\n",
       "    <tr>\n",
       "      <th>15</th>\n",
       "      <td>Maharashtra</td>\n",
       "      <td>Mumbai (summer) Nagpur (winter)</td>\n",
       "      <td>288</td>\n",
       "      <td>Shiv Sena</td>\n",
       "      <td>Fourteenth</td>\n",
       "    </tr>\n",
       "    <tr>\n",
       "      <th>3</th>\n",
       "      <td>Bihar</td>\n",
       "      <td>Patna</td>\n",
       "      <td>243</td>\n",
       "      <td>Janata Dal (United)</td>\n",
       "      <td>Seventeenth</td>\n",
       "    </tr>\n",
       "    <tr>\n",
       "      <th>25</th>\n",
       "      <td>Tamil Nadu</td>\n",
       "      <td>Chennai</td>\n",
       "      <td>234</td>\n",
       "      <td>All India Anna Dravida Munnetra Kazhagam</td>\n",
       "      <td>Fifteenth</td>\n",
       "    </tr>\n",
       "    <tr>\n",
       "      <th>14</th>\n",
       "      <td>Madhya Pradesh</td>\n",
       "      <td>Bhopal</td>\n",
       "      <td>230</td>\n",
       "      <td>Bharatiya Janata Party</td>\n",
       "      <td>Fifteenth</td>\n",
       "    </tr>\n",
       "    <tr>\n",
       "      <th>12</th>\n",
       "      <td>Karnataka</td>\n",
       "      <td>Bangalore (summer) Belgaum (winter)</td>\n",
       "      <td>224</td>\n",
       "      <td>Bharatiya Janata Party</td>\n",
       "      <td>Fifteenth</td>\n",
       "    </tr>\n",
       "    <tr>\n",
       "      <th>23</th>\n",
       "      <td>Rajasthan</td>\n",
       "      <td>Jaipur</td>\n",
       "      <td>200</td>\n",
       "      <td>Indian National Congress</td>\n",
       "      <td>Fifteenth</td>\n",
       "    </tr>\n",
       "    <tr>\n",
       "      <th>7</th>\n",
       "      <td>Gujarat</td>\n",
       "      <td>Gandhinagar</td>\n",
       "      <td>182</td>\n",
       "      <td>Bharatiya Janata Party</td>\n",
       "      <td>Fourteenth</td>\n",
       "    </tr>\n",
       "    <tr>\n",
       "      <th>0</th>\n",
       "      <td>Andhra Pradesh</td>\n",
       "      <td>Amaravati</td>\n",
       "      <td>175</td>\n",
       "      <td>YSR Congress Party</td>\n",
       "      <td>Fifteenth</td>\n",
       "    </tr>\n",
       "    <tr>\n",
       "      <th>20</th>\n",
       "      <td>Odisha</td>\n",
       "      <td>Bhubaneshwar</td>\n",
       "      <td>147</td>\n",
       "      <td>Biju Janata Dal</td>\n",
       "      <td>Sixteenth</td>\n",
       "    </tr>\n",
       "    <tr>\n",
       "      <th>13</th>\n",
       "      <td>Kerala</td>\n",
       "      <td>Thiruvananthapuram</td>\n",
       "      <td>140</td>\n",
       "      <td>Communist Party of India (Marxist)</td>\n",
       "      <td>Fourteenth</td>\n",
       "    </tr>\n",
       "    <tr>\n",
       "      <th>2</th>\n",
       "      <td>Assam</td>\n",
       "      <td>Dispur</td>\n",
       "      <td>126</td>\n",
       "      <td>Bharatiya Janata Party</td>\n",
       "      <td>Thirteenth</td>\n",
       "    </tr>\n",
       "    <tr>\n",
       "      <th>26</th>\n",
       "      <td>Telangana</td>\n",
       "      <td>Hyderabad</td>\n",
       "      <td>119</td>\n",
       "      <td>Telangana Rashtra Samithi</td>\n",
       "      <td>Second</td>\n",
       "    </tr>\n",
       "    <tr>\n",
       "      <th>22</th>\n",
       "      <td>Punjab</td>\n",
       "      <td>Chandigarh</td>\n",
       "      <td>117</td>\n",
       "      <td>Indian National Congress</td>\n",
       "      <td>Fifteenth</td>\n",
       "    </tr>\n",
       "    <tr>\n",
       "      <th>4</th>\n",
       "      <td>Chhattisgarh</td>\n",
       "      <td>Naya Raipur</td>\n",
       "      <td>90</td>\n",
       "      <td>Indian National Congress</td>\n",
       "      <td>Fifth</td>\n",
       "    </tr>\n",
       "    <tr>\n",
       "      <th>8</th>\n",
       "      <td>Haryana</td>\n",
       "      <td>Chandigarh</td>\n",
       "      <td>90</td>\n",
       "      <td>Bharatiya Janata Party</td>\n",
       "      <td>Fourteenth</td>\n",
       "    </tr>\n",
       "    <tr>\n",
       "      <th>10</th>\n",
       "      <td>Jammu and Kashmir</td>\n",
       "      <td>Srinagar (summer) Jammu (winter)</td>\n",
       "      <td>85</td>\n",
       "      <td>N/A(President's rule)</td>\n",
       "      <td>N/A(President's rule)</td>\n",
       "    </tr>\n",
       "    <tr>\n",
       "      <th>11</th>\n",
       "      <td>Jharkhand</td>\n",
       "      <td>Ranchi</td>\n",
       "      <td>81</td>\n",
       "      <td>Jharkhand Mukti Morcha</td>\n",
       "      <td>Fifth</td>\n",
       "    </tr>\n",
       "    <tr>\n",
       "      <th>5</th>\n",
       "      <td>Delhi</td>\n",
       "      <td>New Delhi</td>\n",
       "      <td>70</td>\n",
       "      <td>Aam Aadmi Party</td>\n",
       "      <td>Seventh</td>\n",
       "    </tr>\n",
       "    <tr>\n",
       "      <th>29</th>\n",
       "      <td>Uttarakhand</td>\n",
       "      <td>Gairsain (summer) Dehradun (winter)</td>\n",
       "      <td>70</td>\n",
       "      <td>Bharatiya Janata Party</td>\n",
       "      <td>Fourth</td>\n",
       "    </tr>\n",
       "    <tr>\n",
       "      <th>9</th>\n",
       "      <td>Himachal Pradesh</td>\n",
       "      <td>Shimla (summer) Dharamshala (winter)</td>\n",
       "      <td>68</td>\n",
       "      <td>Bharatiya Janata Party</td>\n",
       "      <td>Thirteenth</td>\n",
       "    </tr>\n",
       "    <tr>\n",
       "      <th>19</th>\n",
       "      <td>Nagaland</td>\n",
       "      <td>Kohima</td>\n",
       "      <td>60</td>\n",
       "      <td>Nationalist Democratic Progressive Party</td>\n",
       "      <td>Thirteenth</td>\n",
       "    </tr>\n",
       "    <tr>\n",
       "      <th>16</th>\n",
       "      <td>Manipur</td>\n",
       "      <td>Imphal</td>\n",
       "      <td>60</td>\n",
       "      <td>Bharatiya Janata Party</td>\n",
       "      <td>Twelfth</td>\n",
       "    </tr>\n",
       "    <tr>\n",
       "      <th>1</th>\n",
       "      <td>Arunachal Pradesh</td>\n",
       "      <td>Itanagar</td>\n",
       "      <td>60</td>\n",
       "      <td>Bharatiya Janata Party</td>\n",
       "      <td>Seventh</td>\n",
       "    </tr>\n",
       "    <tr>\n",
       "      <th>27</th>\n",
       "      <td>Tripura</td>\n",
       "      <td>Agartala</td>\n",
       "      <td>60</td>\n",
       "      <td>Bharatiya Janata Party</td>\n",
       "      <td>Twelfth</td>\n",
       "    </tr>\n",
       "    <tr>\n",
       "      <th>17</th>\n",
       "      <td>Meghalaya</td>\n",
       "      <td>Shillong</td>\n",
       "      <td>60</td>\n",
       "      <td>National People's Party</td>\n",
       "      <td>Tenth</td>\n",
       "    </tr>\n",
       "    <tr>\n",
       "      <th>18</th>\n",
       "      <td>Mizoram</td>\n",
       "      <td>Aizawl</td>\n",
       "      <td>40</td>\n",
       "      <td>Mizo National Front</td>\n",
       "      <td>Seventh</td>\n",
       "    </tr>\n",
       "    <tr>\n",
       "      <th>6</th>\n",
       "      <td>Goa</td>\n",
       "      <td>Panaji</td>\n",
       "      <td>40</td>\n",
       "      <td>Bharatiya Janata Party</td>\n",
       "      <td>Seventh</td>\n",
       "    </tr>\n",
       "    <tr>\n",
       "      <th>21</th>\n",
       "      <td>Puducherry</td>\n",
       "      <td>Puducherry</td>\n",
       "      <td>33</td>\n",
       "      <td>Indian National Congress</td>\n",
       "      <td>Fourteenth</td>\n",
       "    </tr>\n",
       "    <tr>\n",
       "      <th>24</th>\n",
       "      <td>Sikkim</td>\n",
       "      <td>Gangtok</td>\n",
       "      <td>32</td>\n",
       "      <td>Sikkim Krantikari Morcha</td>\n",
       "      <td>Tenth</td>\n",
       "    </tr>\n",
       "  </tbody>\n",
       "</table>\n",
       "</div>"
      ],
      "text/plain": [
       "   State Legislative Assembly (Vidhan Sabha)  \\\n",
       "28                           Uttar Pradesh     \n",
       "30                             West Bengal     \n",
       "15                             Maharashtra     \n",
       "3                                    Bihar     \n",
       "25                              Tamil Nadu     \n",
       "14                          Madhya Pradesh     \n",
       "12                               Karnataka     \n",
       "23                               Rajasthan     \n",
       "7                                  Gujarat     \n",
       "0                           Andhra Pradesh     \n",
       "20                                  Odisha     \n",
       "13                                  Kerala     \n",
       "2                                    Assam     \n",
       "26                               Telangana     \n",
       "22                                  Punjab     \n",
       "4                             Chhattisgarh     \n",
       "8                                  Haryana     \n",
       "10                       Jammu and Kashmir     \n",
       "11                               Jharkhand     \n",
       "5                                    Delhi     \n",
       "29                             Uttarakhand     \n",
       "9                         Himachal Pradesh     \n",
       "19                                Nagaland     \n",
       "16                                 Manipur     \n",
       "1                        Arunachal Pradesh     \n",
       "27                                 Tripura     \n",
       "17                               Meghalaya     \n",
       "18                                 Mizoram     \n",
       "6                                      Goa     \n",
       "21                              Puducherry     \n",
       "24                                  Sikkim     \n",
       "\n",
       "                      Seat/state capital  Number of constituencies  \\\n",
       "28                               Lucknow                       403   \n",
       "30                               Kolkata                       294   \n",
       "15       Mumbai (summer) Nagpur (winter)                       288   \n",
       "3                                  Patna                       243   \n",
       "25                               Chennai                       234   \n",
       "14                                Bhopal                       230   \n",
       "12   Bangalore (summer) Belgaum (winter)                       224   \n",
       "23                                Jaipur                       200   \n",
       "7                            Gandhinagar                       182   \n",
       "0                              Amaravati                       175   \n",
       "20                          Bhubaneshwar                       147   \n",
       "13                    Thiruvananthapuram                       140   \n",
       "2                                 Dispur                       126   \n",
       "26                             Hyderabad                       119   \n",
       "22                            Chandigarh                       117   \n",
       "4                            Naya Raipur                        90   \n",
       "8                             Chandigarh                        90   \n",
       "10      Srinagar (summer) Jammu (winter)                        85   \n",
       "11                                Ranchi                        81   \n",
       "5                              New Delhi                        70   \n",
       "29   Gairsain (summer) Dehradun (winter)                        70   \n",
       "9   Shimla (summer) Dharamshala (winter)                        68   \n",
       "19                                Kohima                        60   \n",
       "16                                Imphal                        60   \n",
       "1                               Itanagar                        60   \n",
       "27                              Agartala                        60   \n",
       "17                              Shillong                        60   \n",
       "18                                Aizawl                        40   \n",
       "6                                 Panaji                        40   \n",
       "21                            Puducherry                        33   \n",
       "24                               Gangtok                        32   \n",
       "\n",
       "                                Ruling party          Current house  \n",
       "28                    Bharatiya Janata Party            Seventeenth  \n",
       "30              All India Trinamool Congress              Sixteenth  \n",
       "15                                 Shiv Sena             Fourteenth  \n",
       "3                        Janata Dal (United)            Seventeenth  \n",
       "25  All India Anna Dravida Munnetra Kazhagam              Fifteenth  \n",
       "14                    Bharatiya Janata Party              Fifteenth  \n",
       "12                    Bharatiya Janata Party              Fifteenth  \n",
       "23                  Indian National Congress              Fifteenth  \n",
       "7                     Bharatiya Janata Party             Fourteenth  \n",
       "0                         YSR Congress Party              Fifteenth  \n",
       "20                           Biju Janata Dal              Sixteenth  \n",
       "13        Communist Party of India (Marxist)             Fourteenth  \n",
       "2                     Bharatiya Janata Party             Thirteenth  \n",
       "26                 Telangana Rashtra Samithi                 Second  \n",
       "22                  Indian National Congress              Fifteenth  \n",
       "4                   Indian National Congress                  Fifth  \n",
       "8                     Bharatiya Janata Party             Fourteenth  \n",
       "10                     N/A(President's rule)  N/A(President's rule)  \n",
       "11                    Jharkhand Mukti Morcha                  Fifth  \n",
       "5                            Aam Aadmi Party                Seventh  \n",
       "29                    Bharatiya Janata Party                 Fourth  \n",
       "9                     Bharatiya Janata Party             Thirteenth  \n",
       "19  Nationalist Democratic Progressive Party             Thirteenth  \n",
       "16                    Bharatiya Janata Party                Twelfth  \n",
       "1                     Bharatiya Janata Party                Seventh  \n",
       "27                    Bharatiya Janata Party                Twelfth  \n",
       "17                   National People's Party                  Tenth  \n",
       "18                       Mizo National Front                Seventh  \n",
       "6                     Bharatiya Janata Party                Seventh  \n",
       "21                  Indian National Congress             Fourteenth  \n",
       "24                  Sikkim Krantikari Morcha                  Tenth  "
      ]
     },
     "execution_count": 44,
     "metadata": {},
     "output_type": "execute_result"
    }
   ],
   "source": [
    "df1=df.sort_values(by='Number of constituencies',ascending=False)\n",
    "df1"
   ]
  },
  {
   "cell_type": "code",
   "execution_count": null,
   "metadata": {},
   "outputs": [],
   "source": []
  },
  {
   "cell_type": "code",
   "execution_count": 45,
   "metadata": {},
   "outputs": [],
   "source": [
    "import plotly\n",
    "import plotly.graph_objs as go\n",
    "from plotly.offline import iplot"
   ]
  },
  {
   "cell_type": "code",
   "execution_count": 54,
   "metadata": {},
   "outputs": [
    {
     "data": {
      "application/vnd.plotly.v1+json": {
       "config": {
        "linkText": "Export to plotly.com",
        "plotlyServerURL": "https://plotly.com",
        "showLink": false
       },
       "data": [
        {
         "marker": {
          "color": "rgba(125, 255, 225, 0.5)",
          "line": {
           "color": "rgb(0,0,0)",
           "width": 1.5
          }
         },
         "text": [
          403,
          294,
          288,
          243,
          234,
          230,
          224,
          200,
          182,
          175,
          147,
          140,
          126,
          119,
          117,
          90,
          90,
          85,
          81,
          70,
          70,
          68,
          60,
          60,
          60,
          60,
          60,
          40,
          40,
          33,
          32
         ],
         "textposition": "outside",
         "type": "bar",
         "x": [
          "Uttar Pradesh  ",
          "West Bengal  ",
          "Maharashtra  ",
          "Bihar  ",
          "Tamil Nadu  ",
          "Madhya Pradesh  ",
          "Karnataka  ",
          "Rajasthan  ",
          "Gujarat  ",
          "Andhra Pradesh  "
         ],
         "y": [
          403,
          294,
          288,
          243,
          234,
          230,
          224,
          200,
          182,
          175
         ]
        }
       ],
       "layout": {
        "margin": {
         "b": 20,
         "l": 20,
         "r": 20,
         "t": 35
        },
        "template": {
         "data": {
          "bar": [
           {
            "error_x": {
             "color": "rgb(36,36,36)"
            },
            "error_y": {
             "color": "rgb(36,36,36)"
            },
            "marker": {
             "line": {
              "color": "white",
              "width": 0.5
             }
            },
            "type": "bar"
           }
          ],
          "barpolar": [
           {
            "marker": {
             "line": {
              "color": "white",
              "width": 0.5
             }
            },
            "type": "barpolar"
           }
          ],
          "carpet": [
           {
            "aaxis": {
             "endlinecolor": "rgb(36,36,36)",
             "gridcolor": "white",
             "linecolor": "white",
             "minorgridcolor": "white",
             "startlinecolor": "rgb(36,36,36)"
            },
            "baxis": {
             "endlinecolor": "rgb(36,36,36)",
             "gridcolor": "white",
             "linecolor": "white",
             "minorgridcolor": "white",
             "startlinecolor": "rgb(36,36,36)"
            },
            "type": "carpet"
           }
          ],
          "choropleth": [
           {
            "colorbar": {
             "outlinewidth": 1,
             "tickcolor": "rgb(36,36,36)",
             "ticks": "outside"
            },
            "type": "choropleth"
           }
          ],
          "contour": [
           {
            "colorbar": {
             "outlinewidth": 1,
             "tickcolor": "rgb(36,36,36)",
             "ticks": "outside"
            },
            "colorscale": [
             [
              0,
              "#440154"
             ],
             [
              0.1111111111111111,
              "#482878"
             ],
             [
              0.2222222222222222,
              "#3e4989"
             ],
             [
              0.3333333333333333,
              "#31688e"
             ],
             [
              0.4444444444444444,
              "#26828e"
             ],
             [
              0.5555555555555556,
              "#1f9e89"
             ],
             [
              0.6666666666666666,
              "#35b779"
             ],
             [
              0.7777777777777778,
              "#6ece58"
             ],
             [
              0.8888888888888888,
              "#b5de2b"
             ],
             [
              1,
              "#fde725"
             ]
            ],
            "type": "contour"
           }
          ],
          "contourcarpet": [
           {
            "colorbar": {
             "outlinewidth": 1,
             "tickcolor": "rgb(36,36,36)",
             "ticks": "outside"
            },
            "type": "contourcarpet"
           }
          ],
          "heatmap": [
           {
            "colorbar": {
             "outlinewidth": 1,
             "tickcolor": "rgb(36,36,36)",
             "ticks": "outside"
            },
            "colorscale": [
             [
              0,
              "#440154"
             ],
             [
              0.1111111111111111,
              "#482878"
             ],
             [
              0.2222222222222222,
              "#3e4989"
             ],
             [
              0.3333333333333333,
              "#31688e"
             ],
             [
              0.4444444444444444,
              "#26828e"
             ],
             [
              0.5555555555555556,
              "#1f9e89"
             ],
             [
              0.6666666666666666,
              "#35b779"
             ],
             [
              0.7777777777777778,
              "#6ece58"
             ],
             [
              0.8888888888888888,
              "#b5de2b"
             ],
             [
              1,
              "#fde725"
             ]
            ],
            "type": "heatmap"
           }
          ],
          "heatmapgl": [
           {
            "colorbar": {
             "outlinewidth": 1,
             "tickcolor": "rgb(36,36,36)",
             "ticks": "outside"
            },
            "colorscale": [
             [
              0,
              "#440154"
             ],
             [
              0.1111111111111111,
              "#482878"
             ],
             [
              0.2222222222222222,
              "#3e4989"
             ],
             [
              0.3333333333333333,
              "#31688e"
             ],
             [
              0.4444444444444444,
              "#26828e"
             ],
             [
              0.5555555555555556,
              "#1f9e89"
             ],
             [
              0.6666666666666666,
              "#35b779"
             ],
             [
              0.7777777777777778,
              "#6ece58"
             ],
             [
              0.8888888888888888,
              "#b5de2b"
             ],
             [
              1,
              "#fde725"
             ]
            ],
            "type": "heatmapgl"
           }
          ],
          "histogram": [
           {
            "marker": {
             "line": {
              "color": "white",
              "width": 0.6
             }
            },
            "type": "histogram"
           }
          ],
          "histogram2d": [
           {
            "colorbar": {
             "outlinewidth": 1,
             "tickcolor": "rgb(36,36,36)",
             "ticks": "outside"
            },
            "colorscale": [
             [
              0,
              "#440154"
             ],
             [
              0.1111111111111111,
              "#482878"
             ],
             [
              0.2222222222222222,
              "#3e4989"
             ],
             [
              0.3333333333333333,
              "#31688e"
             ],
             [
              0.4444444444444444,
              "#26828e"
             ],
             [
              0.5555555555555556,
              "#1f9e89"
             ],
             [
              0.6666666666666666,
              "#35b779"
             ],
             [
              0.7777777777777778,
              "#6ece58"
             ],
             [
              0.8888888888888888,
              "#b5de2b"
             ],
             [
              1,
              "#fde725"
             ]
            ],
            "type": "histogram2d"
           }
          ],
          "histogram2dcontour": [
           {
            "colorbar": {
             "outlinewidth": 1,
             "tickcolor": "rgb(36,36,36)",
             "ticks": "outside"
            },
            "colorscale": [
             [
              0,
              "#440154"
             ],
             [
              0.1111111111111111,
              "#482878"
             ],
             [
              0.2222222222222222,
              "#3e4989"
             ],
             [
              0.3333333333333333,
              "#31688e"
             ],
             [
              0.4444444444444444,
              "#26828e"
             ],
             [
              0.5555555555555556,
              "#1f9e89"
             ],
             [
              0.6666666666666666,
              "#35b779"
             ],
             [
              0.7777777777777778,
              "#6ece58"
             ],
             [
              0.8888888888888888,
              "#b5de2b"
             ],
             [
              1,
              "#fde725"
             ]
            ],
            "type": "histogram2dcontour"
           }
          ],
          "mesh3d": [
           {
            "colorbar": {
             "outlinewidth": 1,
             "tickcolor": "rgb(36,36,36)",
             "ticks": "outside"
            },
            "type": "mesh3d"
           }
          ],
          "parcoords": [
           {
            "line": {
             "colorbar": {
              "outlinewidth": 1,
              "tickcolor": "rgb(36,36,36)",
              "ticks": "outside"
             }
            },
            "type": "parcoords"
           }
          ],
          "pie": [
           {
            "automargin": true,
            "type": "pie"
           }
          ],
          "scatter": [
           {
            "marker": {
             "colorbar": {
              "outlinewidth": 1,
              "tickcolor": "rgb(36,36,36)",
              "ticks": "outside"
             }
            },
            "type": "scatter"
           }
          ],
          "scatter3d": [
           {
            "line": {
             "colorbar": {
              "outlinewidth": 1,
              "tickcolor": "rgb(36,36,36)",
              "ticks": "outside"
             }
            },
            "marker": {
             "colorbar": {
              "outlinewidth": 1,
              "tickcolor": "rgb(36,36,36)",
              "ticks": "outside"
             }
            },
            "type": "scatter3d"
           }
          ],
          "scattercarpet": [
           {
            "marker": {
             "colorbar": {
              "outlinewidth": 1,
              "tickcolor": "rgb(36,36,36)",
              "ticks": "outside"
             }
            },
            "type": "scattercarpet"
           }
          ],
          "scattergeo": [
           {
            "marker": {
             "colorbar": {
              "outlinewidth": 1,
              "tickcolor": "rgb(36,36,36)",
              "ticks": "outside"
             }
            },
            "type": "scattergeo"
           }
          ],
          "scattergl": [
           {
            "marker": {
             "colorbar": {
              "outlinewidth": 1,
              "tickcolor": "rgb(36,36,36)",
              "ticks": "outside"
             }
            },
            "type": "scattergl"
           }
          ],
          "scattermapbox": [
           {
            "marker": {
             "colorbar": {
              "outlinewidth": 1,
              "tickcolor": "rgb(36,36,36)",
              "ticks": "outside"
             }
            },
            "type": "scattermapbox"
           }
          ],
          "scatterpolar": [
           {
            "marker": {
             "colorbar": {
              "outlinewidth": 1,
              "tickcolor": "rgb(36,36,36)",
              "ticks": "outside"
             }
            },
            "type": "scatterpolar"
           }
          ],
          "scatterpolargl": [
           {
            "marker": {
             "colorbar": {
              "outlinewidth": 1,
              "tickcolor": "rgb(36,36,36)",
              "ticks": "outside"
             }
            },
            "type": "scatterpolargl"
           }
          ],
          "scatterternary": [
           {
            "marker": {
             "colorbar": {
              "outlinewidth": 1,
              "tickcolor": "rgb(36,36,36)",
              "ticks": "outside"
             }
            },
            "type": "scatterternary"
           }
          ],
          "surface": [
           {
            "colorbar": {
             "outlinewidth": 1,
             "tickcolor": "rgb(36,36,36)",
             "ticks": "outside"
            },
            "colorscale": [
             [
              0,
              "#440154"
             ],
             [
              0.1111111111111111,
              "#482878"
             ],
             [
              0.2222222222222222,
              "#3e4989"
             ],
             [
              0.3333333333333333,
              "#31688e"
             ],
             [
              0.4444444444444444,
              "#26828e"
             ],
             [
              0.5555555555555556,
              "#1f9e89"
             ],
             [
              0.6666666666666666,
              "#35b779"
             ],
             [
              0.7777777777777778,
              "#6ece58"
             ],
             [
              0.8888888888888888,
              "#b5de2b"
             ],
             [
              1,
              "#fde725"
             ]
            ],
            "type": "surface"
           }
          ],
          "table": [
           {
            "cells": {
             "fill": {
              "color": "rgb(237,237,237)"
             },
             "line": {
              "color": "white"
             }
            },
            "header": {
             "fill": {
              "color": "rgb(217,217,217)"
             },
             "line": {
              "color": "white"
             }
            },
            "type": "table"
           }
          ]
         },
         "layout": {
          "annotationdefaults": {
           "arrowhead": 0,
           "arrowwidth": 1
          },
          "coloraxis": {
           "colorbar": {
            "outlinewidth": 1,
            "tickcolor": "rgb(36,36,36)",
            "ticks": "outside"
           }
          },
          "colorscale": {
           "diverging": [
            [
             0,
             "rgb(103,0,31)"
            ],
            [
             0.1,
             "rgb(178,24,43)"
            ],
            [
             0.2,
             "rgb(214,96,77)"
            ],
            [
             0.3,
             "rgb(244,165,130)"
            ],
            [
             0.4,
             "rgb(253,219,199)"
            ],
            [
             0.5,
             "rgb(247,247,247)"
            ],
            [
             0.6,
             "rgb(209,229,240)"
            ],
            [
             0.7,
             "rgb(146,197,222)"
            ],
            [
             0.8,
             "rgb(67,147,195)"
            ],
            [
             0.9,
             "rgb(33,102,172)"
            ],
            [
             1,
             "rgb(5,48,97)"
            ]
           ],
           "sequential": [
            [
             0,
             "#440154"
            ],
            [
             0.1111111111111111,
             "#482878"
            ],
            [
             0.2222222222222222,
             "#3e4989"
            ],
            [
             0.3333333333333333,
             "#31688e"
            ],
            [
             0.4444444444444444,
             "#26828e"
            ],
            [
             0.5555555555555556,
             "#1f9e89"
            ],
            [
             0.6666666666666666,
             "#35b779"
            ],
            [
             0.7777777777777778,
             "#6ece58"
            ],
            [
             0.8888888888888888,
             "#b5de2b"
            ],
            [
             1,
             "#fde725"
            ]
           ],
           "sequentialminus": [
            [
             0,
             "#440154"
            ],
            [
             0.1111111111111111,
             "#482878"
            ],
            [
             0.2222222222222222,
             "#3e4989"
            ],
            [
             0.3333333333333333,
             "#31688e"
            ],
            [
             0.4444444444444444,
             "#26828e"
            ],
            [
             0.5555555555555556,
             "#1f9e89"
            ],
            [
             0.6666666666666666,
             "#35b779"
            ],
            [
             0.7777777777777778,
             "#6ece58"
            ],
            [
             0.8888888888888888,
             "#b5de2b"
            ],
            [
             1,
             "#fde725"
            ]
           ]
          },
          "colorway": [
           "#1F77B4",
           "#FF7F0E",
           "#2CA02C",
           "#D62728",
           "#9467BD",
           "#8C564B",
           "#E377C2",
           "#7F7F7F",
           "#BCBD22",
           "#17BECF"
          ],
          "font": {
           "color": "rgb(36,36,36)"
          },
          "geo": {
           "bgcolor": "white",
           "lakecolor": "white",
           "landcolor": "white",
           "showlakes": true,
           "showland": true,
           "subunitcolor": "white"
          },
          "hoverlabel": {
           "align": "left"
          },
          "hovermode": "closest",
          "mapbox": {
           "style": "light"
          },
          "paper_bgcolor": "white",
          "plot_bgcolor": "white",
          "polar": {
           "angularaxis": {
            "gridcolor": "rgb(232,232,232)",
            "linecolor": "rgb(36,36,36)",
            "showgrid": false,
            "showline": true,
            "ticks": "outside"
           },
           "bgcolor": "white",
           "radialaxis": {
            "gridcolor": "rgb(232,232,232)",
            "linecolor": "rgb(36,36,36)",
            "showgrid": false,
            "showline": true,
            "ticks": "outside"
           }
          },
          "scene": {
           "xaxis": {
            "backgroundcolor": "white",
            "gridcolor": "rgb(232,232,232)",
            "gridwidth": 2,
            "linecolor": "rgb(36,36,36)",
            "showbackground": true,
            "showgrid": false,
            "showline": true,
            "ticks": "outside",
            "zeroline": false,
            "zerolinecolor": "rgb(36,36,36)"
           },
           "yaxis": {
            "backgroundcolor": "white",
            "gridcolor": "rgb(232,232,232)",
            "gridwidth": 2,
            "linecolor": "rgb(36,36,36)",
            "showbackground": true,
            "showgrid": false,
            "showline": true,
            "ticks": "outside",
            "zeroline": false,
            "zerolinecolor": "rgb(36,36,36)"
           },
           "zaxis": {
            "backgroundcolor": "white",
            "gridcolor": "rgb(232,232,232)",
            "gridwidth": 2,
            "linecolor": "rgb(36,36,36)",
            "showbackground": true,
            "showgrid": false,
            "showline": true,
            "ticks": "outside",
            "zeroline": false,
            "zerolinecolor": "rgb(36,36,36)"
           }
          },
          "shapedefaults": {
           "fillcolor": "black",
           "line": {
            "width": 0
           },
           "opacity": 0.3
          },
          "ternary": {
           "aaxis": {
            "gridcolor": "rgb(232,232,232)",
            "linecolor": "rgb(36,36,36)",
            "showgrid": false,
            "showline": true,
            "ticks": "outside"
           },
           "baxis": {
            "gridcolor": "rgb(232,232,232)",
            "linecolor": "rgb(36,36,36)",
            "showgrid": false,
            "showline": true,
            "ticks": "outside"
           },
           "bgcolor": "white",
           "caxis": {
            "gridcolor": "rgb(232,232,232)",
            "linecolor": "rgb(36,36,36)",
            "showgrid": false,
            "showline": true,
            "ticks": "outside"
           }
          },
          "title": {
           "x": 0.05
          },
          "xaxis": {
           "automargin": true,
           "gridcolor": "rgb(232,232,232)",
           "linecolor": "rgb(36,36,36)",
           "showgrid": false,
           "showline": true,
           "ticks": "outside",
           "title": {
            "standoff": 15
           },
           "zeroline": false,
           "zerolinecolor": "rgb(36,36,36)"
          },
          "yaxis": {
           "automargin": true,
           "gridcolor": "rgb(232,232,232)",
           "linecolor": "rgb(36,36,36)",
           "showgrid": false,
           "showline": true,
           "ticks": "outside",
           "title": {
            "standoff": 15
           },
           "zeroline": false,
           "zerolinecolor": "rgb(36,36,36)"
          }
         }
        },
        "title": {
         "text": "Top 10 State having highest Vidhan Sabha Seats "
        },
        "xaxis": {
         "title": {
          "text": "States"
         }
        },
        "yaxis": {
         "title": {
          "text": "Vidhan Sabha Seats"
         }
        }
       }
      },
      "text/html": [
       "<div>\n",
       "        \n",
       "        \n",
       "            <div id=\"ad1c2361-83ce-455a-a3f3-3b0861a2ea6e\" class=\"plotly-graph-div\" style=\"height:525px; width:100%;\"></div>\n",
       "            <script type=\"text/javascript\">\n",
       "                require([\"plotly\"], function(Plotly) {\n",
       "                    window.PLOTLYENV=window.PLOTLYENV || {};\n",
       "                    \n",
       "                if (document.getElementById(\"ad1c2361-83ce-455a-a3f3-3b0861a2ea6e\")) {\n",
       "                    Plotly.newPlot(\n",
       "                        'ad1c2361-83ce-455a-a3f3-3b0861a2ea6e',\n",
       "                        [{\"marker\": {\"color\": \"rgba(125, 255, 225, 0.5)\", \"line\": {\"color\": \"rgb(0,0,0)\", \"width\": 1.5}}, \"text\": [403.0, 294.0, 288.0, 243.0, 234.0, 230.0, 224.0, 200.0, 182.0, 175.0, 147.0, 140.0, 126.0, 119.0, 117.0, 90.0, 90.0, 85.0, 81.0, 70.0, 70.0, 68.0, 60.0, 60.0, 60.0, 60.0, 60.0, 40.0, 40.0, 33.0, 32.0], \"textposition\": \"outside\", \"type\": \"bar\", \"x\": [\"Uttar Pradesh  \", \"West Bengal  \", \"Maharashtra  \", \"Bihar  \", \"Tamil Nadu  \", \"Madhya Pradesh  \", \"Karnataka  \", \"Rajasthan  \", \"Gujarat  \", \"Andhra Pradesh  \"], \"y\": [403, 294, 288, 243, 234, 230, 224, 200, 182, 175]}],\n",
       "                        {\"margin\": {\"b\": 20, \"l\": 20, \"r\": 20, \"t\": 35}, \"template\": {\"data\": {\"bar\": [{\"error_x\": {\"color\": \"rgb(36,36,36)\"}, \"error_y\": {\"color\": \"rgb(36,36,36)\"}, \"marker\": {\"line\": {\"color\": \"white\", \"width\": 0.5}}, \"type\": \"bar\"}], \"barpolar\": [{\"marker\": {\"line\": {\"color\": \"white\", \"width\": 0.5}}, \"type\": \"barpolar\"}], \"carpet\": [{\"aaxis\": {\"endlinecolor\": \"rgb(36,36,36)\", \"gridcolor\": \"white\", \"linecolor\": \"white\", \"minorgridcolor\": \"white\", \"startlinecolor\": \"rgb(36,36,36)\"}, \"baxis\": {\"endlinecolor\": \"rgb(36,36,36)\", \"gridcolor\": \"white\", \"linecolor\": \"white\", \"minorgridcolor\": \"white\", \"startlinecolor\": \"rgb(36,36,36)\"}, \"type\": \"carpet\"}], \"choropleth\": [{\"colorbar\": {\"outlinewidth\": 1, \"tickcolor\": \"rgb(36,36,36)\", \"ticks\": \"outside\"}, \"type\": \"choropleth\"}], \"contour\": [{\"colorbar\": {\"outlinewidth\": 1, \"tickcolor\": \"rgb(36,36,36)\", \"ticks\": \"outside\"}, \"colorscale\": [[0.0, \"#440154\"], [0.1111111111111111, \"#482878\"], [0.2222222222222222, \"#3e4989\"], [0.3333333333333333, \"#31688e\"], [0.4444444444444444, \"#26828e\"], [0.5555555555555556, \"#1f9e89\"], [0.6666666666666666, \"#35b779\"], [0.7777777777777778, \"#6ece58\"], [0.8888888888888888, \"#b5de2b\"], [1.0, \"#fde725\"]], \"type\": \"contour\"}], \"contourcarpet\": [{\"colorbar\": {\"outlinewidth\": 1, \"tickcolor\": \"rgb(36,36,36)\", \"ticks\": \"outside\"}, \"type\": \"contourcarpet\"}], \"heatmap\": [{\"colorbar\": {\"outlinewidth\": 1, \"tickcolor\": \"rgb(36,36,36)\", \"ticks\": \"outside\"}, \"colorscale\": [[0.0, \"#440154\"], [0.1111111111111111, \"#482878\"], [0.2222222222222222, \"#3e4989\"], [0.3333333333333333, \"#31688e\"], [0.4444444444444444, \"#26828e\"], [0.5555555555555556, \"#1f9e89\"], [0.6666666666666666, \"#35b779\"], [0.7777777777777778, \"#6ece58\"], [0.8888888888888888, \"#b5de2b\"], [1.0, \"#fde725\"]], \"type\": \"heatmap\"}], \"heatmapgl\": [{\"colorbar\": {\"outlinewidth\": 1, \"tickcolor\": \"rgb(36,36,36)\", \"ticks\": \"outside\"}, \"colorscale\": [[0.0, \"#440154\"], [0.1111111111111111, \"#482878\"], [0.2222222222222222, \"#3e4989\"], [0.3333333333333333, \"#31688e\"], [0.4444444444444444, \"#26828e\"], [0.5555555555555556, \"#1f9e89\"], [0.6666666666666666, \"#35b779\"], [0.7777777777777778, \"#6ece58\"], [0.8888888888888888, \"#b5de2b\"], [1.0, \"#fde725\"]], \"type\": \"heatmapgl\"}], \"histogram\": [{\"marker\": {\"line\": {\"color\": \"white\", \"width\": 0.6}}, \"type\": \"histogram\"}], \"histogram2d\": [{\"colorbar\": {\"outlinewidth\": 1, \"tickcolor\": \"rgb(36,36,36)\", \"ticks\": \"outside\"}, \"colorscale\": [[0.0, \"#440154\"], [0.1111111111111111, \"#482878\"], [0.2222222222222222, \"#3e4989\"], [0.3333333333333333, \"#31688e\"], [0.4444444444444444, \"#26828e\"], [0.5555555555555556, \"#1f9e89\"], [0.6666666666666666, \"#35b779\"], [0.7777777777777778, \"#6ece58\"], [0.8888888888888888, \"#b5de2b\"], [1.0, \"#fde725\"]], \"type\": \"histogram2d\"}], \"histogram2dcontour\": [{\"colorbar\": {\"outlinewidth\": 1, \"tickcolor\": \"rgb(36,36,36)\", \"ticks\": \"outside\"}, \"colorscale\": [[0.0, \"#440154\"], [0.1111111111111111, \"#482878\"], [0.2222222222222222, \"#3e4989\"], [0.3333333333333333, \"#31688e\"], [0.4444444444444444, \"#26828e\"], [0.5555555555555556, \"#1f9e89\"], [0.6666666666666666, \"#35b779\"], [0.7777777777777778, \"#6ece58\"], [0.8888888888888888, \"#b5de2b\"], [1.0, \"#fde725\"]], \"type\": \"histogram2dcontour\"}], \"mesh3d\": [{\"colorbar\": {\"outlinewidth\": 1, \"tickcolor\": \"rgb(36,36,36)\", \"ticks\": \"outside\"}, \"type\": \"mesh3d\"}], \"parcoords\": [{\"line\": {\"colorbar\": {\"outlinewidth\": 1, \"tickcolor\": \"rgb(36,36,36)\", \"ticks\": \"outside\"}}, \"type\": \"parcoords\"}], \"pie\": [{\"automargin\": true, \"type\": \"pie\"}], \"scatter\": [{\"marker\": {\"colorbar\": {\"outlinewidth\": 1, \"tickcolor\": \"rgb(36,36,36)\", \"ticks\": \"outside\"}}, \"type\": \"scatter\"}], \"scatter3d\": [{\"line\": {\"colorbar\": {\"outlinewidth\": 1, \"tickcolor\": \"rgb(36,36,36)\", \"ticks\": \"outside\"}}, \"marker\": {\"colorbar\": {\"outlinewidth\": 1, \"tickcolor\": \"rgb(36,36,36)\", \"ticks\": \"outside\"}}, \"type\": \"scatter3d\"}], \"scattercarpet\": [{\"marker\": {\"colorbar\": {\"outlinewidth\": 1, \"tickcolor\": \"rgb(36,36,36)\", \"ticks\": \"outside\"}}, \"type\": \"scattercarpet\"}], \"scattergeo\": [{\"marker\": {\"colorbar\": {\"outlinewidth\": 1, \"tickcolor\": \"rgb(36,36,36)\", \"ticks\": \"outside\"}}, \"type\": \"scattergeo\"}], \"scattergl\": [{\"marker\": {\"colorbar\": {\"outlinewidth\": 1, \"tickcolor\": \"rgb(36,36,36)\", \"ticks\": \"outside\"}}, \"type\": \"scattergl\"}], \"scattermapbox\": [{\"marker\": {\"colorbar\": {\"outlinewidth\": 1, \"tickcolor\": \"rgb(36,36,36)\", \"ticks\": \"outside\"}}, \"type\": \"scattermapbox\"}], \"scatterpolar\": [{\"marker\": {\"colorbar\": {\"outlinewidth\": 1, \"tickcolor\": \"rgb(36,36,36)\", \"ticks\": \"outside\"}}, \"type\": \"scatterpolar\"}], \"scatterpolargl\": [{\"marker\": {\"colorbar\": {\"outlinewidth\": 1, \"tickcolor\": \"rgb(36,36,36)\", \"ticks\": \"outside\"}}, \"type\": \"scatterpolargl\"}], \"scatterternary\": [{\"marker\": {\"colorbar\": {\"outlinewidth\": 1, \"tickcolor\": \"rgb(36,36,36)\", \"ticks\": \"outside\"}}, \"type\": \"scatterternary\"}], \"surface\": [{\"colorbar\": {\"outlinewidth\": 1, \"tickcolor\": \"rgb(36,36,36)\", \"ticks\": \"outside\"}, \"colorscale\": [[0.0, \"#440154\"], [0.1111111111111111, \"#482878\"], [0.2222222222222222, \"#3e4989\"], [0.3333333333333333, \"#31688e\"], [0.4444444444444444, \"#26828e\"], [0.5555555555555556, \"#1f9e89\"], [0.6666666666666666, \"#35b779\"], [0.7777777777777778, \"#6ece58\"], [0.8888888888888888, \"#b5de2b\"], [1.0, \"#fde725\"]], \"type\": \"surface\"}], \"table\": [{\"cells\": {\"fill\": {\"color\": \"rgb(237,237,237)\"}, \"line\": {\"color\": \"white\"}}, \"header\": {\"fill\": {\"color\": \"rgb(217,217,217)\"}, \"line\": {\"color\": \"white\"}}, \"type\": \"table\"}]}, \"layout\": {\"annotationdefaults\": {\"arrowhead\": 0, \"arrowwidth\": 1}, \"coloraxis\": {\"colorbar\": {\"outlinewidth\": 1, \"tickcolor\": \"rgb(36,36,36)\", \"ticks\": \"outside\"}}, \"colorscale\": {\"diverging\": [[0.0, \"rgb(103,0,31)\"], [0.1, \"rgb(178,24,43)\"], [0.2, \"rgb(214,96,77)\"], [0.3, \"rgb(244,165,130)\"], [0.4, \"rgb(253,219,199)\"], [0.5, \"rgb(247,247,247)\"], [0.6, \"rgb(209,229,240)\"], [0.7, \"rgb(146,197,222)\"], [0.8, \"rgb(67,147,195)\"], [0.9, \"rgb(33,102,172)\"], [1.0, \"rgb(5,48,97)\"]], \"sequential\": [[0.0, \"#440154\"], [0.1111111111111111, \"#482878\"], [0.2222222222222222, \"#3e4989\"], [0.3333333333333333, \"#31688e\"], [0.4444444444444444, \"#26828e\"], [0.5555555555555556, \"#1f9e89\"], [0.6666666666666666, \"#35b779\"], [0.7777777777777778, \"#6ece58\"], [0.8888888888888888, \"#b5de2b\"], [1.0, \"#fde725\"]], \"sequentialminus\": [[0.0, \"#440154\"], [0.1111111111111111, \"#482878\"], [0.2222222222222222, \"#3e4989\"], [0.3333333333333333, \"#31688e\"], [0.4444444444444444, \"#26828e\"], [0.5555555555555556, \"#1f9e89\"], [0.6666666666666666, \"#35b779\"], [0.7777777777777778, \"#6ece58\"], [0.8888888888888888, \"#b5de2b\"], [1.0, \"#fde725\"]]}, \"colorway\": [\"#1F77B4\", \"#FF7F0E\", \"#2CA02C\", \"#D62728\", \"#9467BD\", \"#8C564B\", \"#E377C2\", \"#7F7F7F\", \"#BCBD22\", \"#17BECF\"], \"font\": {\"color\": \"rgb(36,36,36)\"}, \"geo\": {\"bgcolor\": \"white\", \"lakecolor\": \"white\", \"landcolor\": \"white\", \"showlakes\": true, \"showland\": true, \"subunitcolor\": \"white\"}, \"hoverlabel\": {\"align\": \"left\"}, \"hovermode\": \"closest\", \"mapbox\": {\"style\": \"light\"}, \"paper_bgcolor\": \"white\", \"plot_bgcolor\": \"white\", \"polar\": {\"angularaxis\": {\"gridcolor\": \"rgb(232,232,232)\", \"linecolor\": \"rgb(36,36,36)\", \"showgrid\": false, \"showline\": true, \"ticks\": \"outside\"}, \"bgcolor\": \"white\", \"radialaxis\": {\"gridcolor\": \"rgb(232,232,232)\", \"linecolor\": \"rgb(36,36,36)\", \"showgrid\": false, \"showline\": true, \"ticks\": \"outside\"}}, \"scene\": {\"xaxis\": {\"backgroundcolor\": \"white\", \"gridcolor\": \"rgb(232,232,232)\", \"gridwidth\": 2, \"linecolor\": \"rgb(36,36,36)\", \"showbackground\": true, \"showgrid\": false, \"showline\": true, \"ticks\": \"outside\", \"zeroline\": false, \"zerolinecolor\": \"rgb(36,36,36)\"}, \"yaxis\": {\"backgroundcolor\": \"white\", \"gridcolor\": \"rgb(232,232,232)\", \"gridwidth\": 2, \"linecolor\": \"rgb(36,36,36)\", \"showbackground\": true, \"showgrid\": false, \"showline\": true, \"ticks\": \"outside\", \"zeroline\": false, \"zerolinecolor\": \"rgb(36,36,36)\"}, \"zaxis\": {\"backgroundcolor\": \"white\", \"gridcolor\": \"rgb(232,232,232)\", \"gridwidth\": 2, \"linecolor\": \"rgb(36,36,36)\", \"showbackground\": true, \"showgrid\": false, \"showline\": true, \"ticks\": \"outside\", \"zeroline\": false, \"zerolinecolor\": \"rgb(36,36,36)\"}}, \"shapedefaults\": {\"fillcolor\": \"black\", \"line\": {\"width\": 0}, \"opacity\": 0.3}, \"ternary\": {\"aaxis\": {\"gridcolor\": \"rgb(232,232,232)\", \"linecolor\": \"rgb(36,36,36)\", \"showgrid\": false, \"showline\": true, \"ticks\": \"outside\"}, \"baxis\": {\"gridcolor\": \"rgb(232,232,232)\", \"linecolor\": \"rgb(36,36,36)\", \"showgrid\": false, \"showline\": true, \"ticks\": \"outside\"}, \"bgcolor\": \"white\", \"caxis\": {\"gridcolor\": \"rgb(232,232,232)\", \"linecolor\": \"rgb(36,36,36)\", \"showgrid\": false, \"showline\": true, \"ticks\": \"outside\"}}, \"title\": {\"x\": 0.05}, \"xaxis\": {\"automargin\": true, \"gridcolor\": \"rgb(232,232,232)\", \"linecolor\": \"rgb(36,36,36)\", \"showgrid\": false, \"showline\": true, \"ticks\": \"outside\", \"title\": {\"standoff\": 15}, \"zeroline\": false, \"zerolinecolor\": \"rgb(36,36,36)\"}, \"yaxis\": {\"automargin\": true, \"gridcolor\": \"rgb(232,232,232)\", \"linecolor\": \"rgb(36,36,36)\", \"showgrid\": false, \"showline\": true, \"ticks\": \"outside\", \"title\": {\"standoff\": 15}, \"zeroline\": false, \"zerolinecolor\": \"rgb(36,36,36)\"}}}, \"title\": {\"text\": \"Top 10 State having highest Vidhan Sabha Seats \"}, \"xaxis\": {\"title\": {\"text\": \"States\"}}, \"yaxis\": {\"title\": {\"text\": \"Vidhan Sabha Seats\"}}},\n",
       "                        {\"responsive\": true}\n",
       "                    ).then(function(){\n",
       "                            \n",
       "var gd = document.getElementById('ad1c2361-83ce-455a-a3f3-3b0861a2ea6e');\n",
       "var x = new MutationObserver(function (mutations, observer) {{\n",
       "        var display = window.getComputedStyle(gd).display;\n",
       "        if (!display || display === 'none') {{\n",
       "            console.log([gd, 'removed!']);\n",
       "            Plotly.purge(gd);\n",
       "            observer.disconnect();\n",
       "        }}\n",
       "}});\n",
       "\n",
       "// Listen for the removal of the full notebook cells\n",
       "var notebookContainer = gd.closest('#notebook-container');\n",
       "if (notebookContainer) {{\n",
       "    x.observe(notebookContainer, {childList: true});\n",
       "}}\n",
       "\n",
       "// Listen for the clearing of the current output cell\n",
       "var outputEl = gd.closest('.output');\n",
       "if (outputEl) {{\n",
       "    x.observe(outputEl, {childList: true});\n",
       "}}\n",
       "\n",
       "                        })\n",
       "                };\n",
       "                });\n",
       "            </script>\n",
       "        </div>"
      ]
     },
     "metadata": {},
     "output_type": "display_data"
    }
   ],
   "source": [
    "# creating trace1 \n",
    "trace1 = go.Bar(\n",
    "                x = df1['State Legislative Assembly (Vidhan Sabha)'][:10],\n",
    "                y = df1['Number of constituencies'][:10],\n",
    "                #orientation='h',\n",
    "                text= df1['Number of constituencies'],\n",
    "                textposition='outside',\n",
    "                #texttemplate='%{text:.2s}',\n",
    "                \n",
    "    \n",
    "\n",
    "                marker = dict(color = 'rgba(125, 255, 225, 0.5)',\n",
    "                              line=dict(color='rgb(0,0,0)',width=1.5)))\n",
    "                #name = \"citations\",\n",
    "                #text = df2015.country)\n",
    "layout = go.Layout(template='simple_white',title = 'Top 10 State having highest Vidhan Sabha Seats ',xaxis = dict(title = 'States'), yaxis = dict(title = 'Vidhan Sabha Seats'))\n",
    "\n",
    "fig = go.Figure(data = trace1,layout = layout)\n",
    "fig.update_layout(\n",
    "    margin=dict(l=20, r=20, t=35, b=20),\n",
    "\n",
    ")\n",
    "iplot(fig)"
   ]
  },
  {
   "cell_type": "code",
   "execution_count": null,
   "metadata": {},
   "outputs": [],
   "source": []
  }
 ],
 "metadata": {
  "kernelspec": {
   "display_name": "Python 3",
   "language": "python",
   "name": "python3"
  },
  "language_info": {
   "codemirror_mode": {
    "name": "ipython",
    "version": 3
   },
   "file_extension": ".py",
   "mimetype": "text/x-python",
   "name": "python",
   "nbconvert_exporter": "python",
   "pygments_lexer": "ipython3",
   "version": "3.7.3"
  }
 },
 "nbformat": 4,
 "nbformat_minor": 2
}
